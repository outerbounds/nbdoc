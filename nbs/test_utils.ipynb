{
 "cells": [
  {
   "cell_type": "code",
   "execution_count": 1,
   "id": "c4ad1605-f3d4-4de3-a821-423cd8da9200",
   "metadata": {},
   "outputs": [],
   "source": [
    "#default_exp test_utils"
   ]
  },
  {
   "cell_type": "markdown",
   "id": "f9baf904-173c-413a-aaac-403ad0a471b9",
   "metadata": {
    "tags": []
   },
   "source": [
    "# Internal Testing Utilities\n",
    "> Utilities that help to test and display intermediate results of custom Preprocessors"
   ]
  },
  {
   "cell_type": "code",
   "execution_count": 2,
   "id": "a6162f8b-e08e-4ce4-91c4-8d30465d1205",
   "metadata": {},
   "outputs": [],
   "source": [
    "#export\n",
    "from nbconvert import MarkdownExporter\n",
    "from traitlets.config import Config\n",
    "from fastcore.xtras import Path"
   ]
  },
  {
   "cell_type": "code",
   "execution_count": 3,
   "id": "81d625b0-436e-4cc5-905b-bf358892622d",
   "metadata": {},
   "outputs": [],
   "source": [
    "#export\n",
    "def run_preprocessor(pp, nbfile, template_file='ob.tpl', display_results=False):\n",
    "    \"Runs a preprocessor with the MarkdownExporter and optionally displays results.\"\n",
    "    c = Config()\n",
    "    c.MarkdownExporter.preprocessors = pp\n",
    "    tmp_dir = Path(__file__).parent/'templates/'\n",
    "    tmp_file = tmp_dir/f\"{template_file}\"\n",
    "    c.MarkdownExporter.template_file = str(tmp_file)\n",
    "    exp =  MarkdownExporter(config=c)\n",
    "    result = exp.from_filename(nbfile)\n",
    "    if display_results: print(result[0])\n",
    "    return result"
   ]
  },
  {
   "cell_type": "code",
   "execution_count": 4,
   "id": "35077ac8-2075-4218-b3bc-4cbb4ab78fb9",
   "metadata": {},
   "outputs": [],
   "source": [
    "#export\n",
    "def show_plain_md(nbfile):\n",
    "    md = MarkdownExporter()\n",
    "    print(md.from_filename(nbfile)[0])"
   ]
  },
  {
   "cell_type": "code",
   "execution_count": 5,
   "id": "25dc66c9-c4ca-4508-aaed-8e4151f3043c",
   "metadata": {},
   "outputs": [
    {
     "name": "stdout",
     "output_type": "stream",
     "text": [
      "```python\n",
      "#meta:show_steps=start,train\n",
      "print('hello world')\n",
      "```\n",
      "\n",
      "    hello world\n",
      "\n",
      "\n",
      "\n",
      "```python\n",
      "\n",
      "```\n",
      "\n"
     ]
    }
   ],
   "source": [
    "show_plain_md('test_files/hello_world.ipynb')"
   ]
  }
 ],
 "metadata": {
  "kernelspec": {
   "display_name": "Python 3 (ipykernel)",
   "language": "python",
   "name": "python3"
  },
  "language_info": {
   "codemirror_mode": {
    "name": "ipython",
    "version": 3
   },
   "file_extension": ".py",
   "mimetype": "text/x-python",
   "name": "python",
   "nbconvert_exporter": "python",
   "pygments_lexer": "ipython3",
   "version": "3.9.7"
  }
 },
 "nbformat": 4,
 "nbformat_minor": 5
}
