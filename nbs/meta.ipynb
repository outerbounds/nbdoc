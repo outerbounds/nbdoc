{
 "cells": [
  {
   "cell_type": "code",
   "execution_count": 1,
   "id": "a0ef3123-6135-4713-aac0-e99411240d6d",
   "metadata": {},
   "outputs": [],
   "source": [
    "#default_exp meta"
   ]
  },
  {
   "cell_type": "markdown",
   "id": "79a70031-a205-4dec-8386-c5f747526a5c",
   "metadata": {},
   "source": [
    "# Inspect Metadata of Markdown Files\n",
    "> Inspect metadata such as front matter, word count, etc. of markdown files."
   ]
  },
  {
   "cell_type": "code",
   "execution_count": 2,
   "id": "b8a1d5d1-7151-4f47-a41f-2cee6841727b",
   "metadata": {},
   "outputs": [],
   "source": [
    "#export\n",
    "from fastcore.utils import globtastic, Path, merge\n",
    "from fastcore.script import call_parse\n",
    "import re\n",
    "import yaml\n",
    "import json\n",
    "import sys"
   ]
  },
  {
   "cell_type": "code",
   "execution_count": 3,
   "id": "56e6f4e8-86ba-41b6-9131-8d4f65687eaf",
   "metadata": {},
   "outputs": [],
   "source": [
    "#hide\n",
    "from fastcore.test import test_eq, test_fail"
   ]
  },
  {
   "cell_type": "code",
   "execution_count": 4,
   "id": "a63b376a-1e06-4d01-9df0-58535f5e1de3",
   "metadata": {},
   "outputs": [],
   "source": [
    "#export\n",
    "_re_fm = re.compile(r'^---\\s*(.*?)---\\s*$', flags=re.DOTALL | re.MULTILINE)\n",
    "\n",
    "\n",
    "def _load_yml(yml): return yaml.load(yml, Loader=yaml.FullLoader)\n",
    "\n",
    "def get_meta(fname:str):\n",
    "    \"get metadata and front matter from `fname`.\"\n",
    "    txt = Path(fname).read_text()\n",
    "    fm = _re_fm.findall(txt)\n",
    "    n_words = len(_re_fm.sub('', txt).split())\n",
    "    return merge(dict(fname=fname, n_words=n_words), _load_yml(fm[0]) if fm else {})"
   ]
  },
  {
   "cell_type": "code",
   "execution_count": 5,
   "id": "d132678e-4db8-4eb5-9f88-e05c74528e2c",
   "metadata": {},
   "outputs": [],
   "source": [
    "test_eq(get_meta('test_files/_md_files/front_matter_test_docs.md'),\n",
    "        {'fname': 'test_files/_md_files/front_matter_test_docs.md',\n",
    "         'n_words': 65,\n",
    "         'key2': 'value2',\n",
    "         'slug': 'custom/pathfor/site',\n",
    "         'key': 'value'}\n",
    "       )"
   ]
  },
  {
   "cell_type": "code",
   "execution_count": 6,
   "id": "ede4480d-2596-495f-b4fb-d76c90254ea6",
   "metadata": {},
   "outputs": [],
   "source": [
    "#export\n",
    "def meta_list(srcdir:str):\n",
    "    \"Get list of all metadata for markdown files in `srcdir`.\"\n",
    "    docs = globtastic(srcdir, file_glob='*.md', \n",
    "                      skip_folder_re='^[.]',\n",
    "                      skip_file_re='^[_.]')\n",
    "    return docs.map(get_meta)"
   ]
  },
  {
   "cell_type": "code",
   "execution_count": 7,
   "id": "c5d39173-8219-4d13-b3ac-91f7fa3317cf",
   "metadata": {},
   "outputs": [],
   "source": [
    "assert len(meta_list('.')) == 6"
   ]
  },
  {
   "cell_type": "code",
   "execution_count": 8,
   "id": "0ddbf81c-cf93-4fee-a17a-d04a9b18ac46",
   "metadata": {},
   "outputs": [],
   "source": [
    "#export\n",
    "def _checker(func, msg:str, srcdir:str):\n",
    "    fnames = meta_list(srcdir).filter(func).attrgot('fname')\n",
    "    files = '\\n\\t'.join(fnames)\n",
    "    if fnames: raise Exception(f\"The following files {msg}:\\n\\t{files}\")"
   ]
  },
  {
   "cell_type": "code",
   "execution_count": 9,
   "id": "e335555d-979d-44b9-87fe-5c2ce5b20203",
   "metadata": {},
   "outputs": [],
   "source": [
    "#export\n",
    "def _has_no_desc(d): return 'description' not in d\n",
    "\n",
    "@call_parse\n",
    "def chk_desc(srcdir:str='.', #directory of files to check\n",
    "            ):\n",
    "    \"Check if docs do not have the field `description` in their front matter.\"\n",
    "    return _checker(_has_no_desc, \"do not have the field `description` in their front matter\", srcdir)\n"
   ]
  },
  {
   "cell_type": "code",
   "execution_count": 10,
   "id": "ca58e902-88b6-474d-8cc6-91eb61f71d78",
   "metadata": {},
   "outputs": [],
   "source": [
    "test_fail(chk_desc)"
   ]
  },
  {
   "cell_type": "code",
   "execution_count": 11,
   "id": "73daf8d2-04cb-4cb3-93a4-54d79b7f41a7",
   "metadata": {},
   "outputs": [],
   "source": [
    "#export\n",
    "def _has_no_img(d): return 'image' not in d\n",
    "\n",
    "@call_parse\n",
    "def chk_img(srcdir:str='.', #directory of files to check\n",
    "            ):\n",
    "    \"Check if docs do not have the image `description` in their front matter.\"\n",
    "    return _checker(_has_no_img, \"do not have the image `description` in their front matter\", srcdir)"
   ]
  },
  {
   "cell_type": "code",
   "execution_count": 12,
   "id": "5093ae8e-9c59-4e9a-a31e-c89854d0c632",
   "metadata": {},
   "outputs": [],
   "source": [
    "test_fail(chk_img)"
   ]
  },
  {
   "cell_type": "code",
   "execution_count": 13,
   "id": "cb21f54d-a0a6-40fc-9025-d9d6d32fd11a",
   "metadata": {},
   "outputs": [],
   "source": [
    "#export\n",
    "def _lt_50(d): return d['n_words'] < 50\n",
    "\n",
    "@call_parse\n",
    "def chk_len(srcdir:str='.', #directory of files to check\n",
    "            ):\n",
    "    \"Check if docs contain less than 50 words.\"\n",
    "    return _checker(_lt_50, \"contain less than 50 words\", srcdir)"
   ]
  },
  {
   "cell_type": "code",
   "execution_count": 14,
   "id": "ef9c9a3d-beda-4676-85b8-83a1525ee588",
   "metadata": {},
   "outputs": [],
   "source": [
    "test_fail(chk_len)"
   ]
  },
  {
   "cell_type": "code",
   "execution_count": 15,
   "id": "5360dce2-f63f-4fc0-b501-d9db440d402b",
   "metadata": {},
   "outputs": [],
   "source": [
    "#export\n",
    "def _desc_len(d): \n",
    "    desc = d.get('description', None)\n",
    "    if desc: return len(desc) >= 55 and len(desc) <=300\n",
    "    else: return True\n",
    "\n",
    "@call_parse\n",
    "def chk_desc_len(srcdir:str='.', #directory of files to check\n",
    "            ):\n",
    "    \"Check if docs have a description that is not between 55 and 300 characters.\"\n",
    "    return _checker(_desc_len, \"have a description that is not between 55 and 300 characters\", srcdir)"
   ]
  },
  {
   "cell_type": "code",
   "execution_count": null,
   "id": "9f413fc0-e34d-4a1c-ada0-ad6b62edc89e",
   "metadata": {},
   "outputs": [],
   "source": []
  }
 ],
 "metadata": {
  "kernelspec": {
   "display_name": "Python 3 (ipykernel)",
   "language": "python",
   "name": "python3"
  },
  "language_info": {
   "codemirror_mode": {
    "name": "ipython",
    "version": 3
   },
   "file_extension": ".py",
   "mimetype": "text/x-python",
   "name": "python",
   "nbconvert_exporter": "python",
   "pygments_lexer": "ipython3",
   "version": "3.9.7"
  }
 },
 "nbformat": 4,
 "nbformat_minor": 5
}
