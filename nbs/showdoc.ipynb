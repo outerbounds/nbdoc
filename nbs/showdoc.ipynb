{
 "cells": [
  {
   "cell_type": "code",
   "execution_count": 1,
   "id": "aee35186-0164-420e-bcee-fab4a5b1c96d",
   "metadata": {},
   "outputs": [],
   "source": [
    "#default_exp showdoc"
   ]
  },
  {
   "cell_type": "markdown",
   "id": "63ab417b-b182-46de-a88b-89e6de13b66a",
   "metadata": {},
   "source": [
    "# JSX Representations Of Objects\n",
    "> Render JSX representations of python classes and functions interactively.\n",
    "\n",
    "This module is modeled after [nbdev's](https://github.com/fastai/nbdev) showdoc functionality, but is instead [Numpy Docstring](https://numpydoc.readthedocs.io/en/latest/format.html) compliant."
   ]
  },
  {
   "cell_type": "code",
   "execution_count": 2,
   "id": "6f8c7592-7628-4832-bc74-cd50cd307308",
   "metadata": {},
   "outputs": [],
   "source": [
    "#export\n",
    "from numpydoc.docscrape import ClassDoc, FunctionDoc, Parameter\n",
    "from fastcore.xtras import get_source_link\n",
    "from fastcore.foundation import L\n",
    "from xml.etree import ElementTree as et\n",
    "import inspect, warnings\n",
    "from nbdev.showdoc import get_config\n",
    "from functools import partial\n",
    "import re"
   ]
  },
  {
   "cell_type": "code",
   "execution_count": 3,
   "id": "a6c28828-9b3c-4440-afa2-90381fe94450",
   "metadata": {},
   "outputs": [],
   "source": [
    "#hide\n",
    "import test_lib.example as ex\n",
    "from fastcore.test import test_eq, test"
   ]
  },
  {
   "cell_type": "code",
   "execution_count": 4,
   "id": "c315c54e-859c-44c5-9c4d-2499692dfbcb",
   "metadata": {},
   "outputs": [],
   "source": [
    "#export\n",
    "_ATTRS_PARAMS=['Parameters', 'Attributes', 'Returns', 'Yields', 'Raises'] # These have parameters\n",
    "_ATTRS_STR_LIST=['Summary', 'Extended Summary'] # These are lists of strings\n",
    "def _is_func(obj): return inspect.isfunction(obj)"
   ]
  },
  {
   "cell_type": "code",
   "execution_count": 5,
   "id": "af14fe3d-bbb2-4a54-a0b7-c1fa2c9efba0",
   "metadata": {},
   "outputs": [],
   "source": [
    "#export\n",
    "def is_valid_xml(xml:str):\n",
    "    \"Determine if xml is valid or not.\"\n",
    "    try: et.fromstring(xml)\n",
    "    except et.ParseError as e: \n",
    "        print(f\"WARNING: xml not does not parse:{e}\")\n",
    "        return False\n",
    "    return True"
   ]
  },
  {
   "cell_type": "markdown",
   "id": "d0e55f0b-e78f-4b8d-922b-a608bce5a096",
   "metadata": {},
   "source": [
    "You can use `is_valid_xml` to determine if JSX is valid:"
   ]
  },
  {
   "cell_type": "code",
   "execution_count": 6,
   "id": "fe702ea7-7325-4b5d-a8ea-bbb2557547d6",
   "metadata": {},
   "outputs": [],
   "source": [
    "_valid = \"<Foo></Foo>\" # valid jsx\n",
    "assert is_valid_xml(_valid)"
   ]
  },
  {
   "cell_type": "markdown",
   "id": "13625d01-030a-4c52-881a-588d69bf820a",
   "metadata": {},
   "source": [
    "If you pass invalid JSX to `is_valid_xml`, a warning will be printed:"
   ]
  },
  {
   "cell_type": "code",
   "execution_count": 7,
   "id": "f819c03e-3d42-4672-b9e9-594ed877b901",
   "metadata": {},
   "outputs": [
    {
     "name": "stdout",
     "output_type": "stream",
     "text": [
      "WARNING: xml not does not parse:no element found: line 1, column 10\n",
      "WARNING: xml not does not parse:mismatched tag: line 1, column 7\n"
     ]
    }
   ],
   "source": [
    "_invalid1 = \"<Foo><Foo>\"\n",
    "_invalid2 = \"<Foo></Bar>\"\n",
    "\n",
    "assert not is_valid_xml(_invalid1)\n",
    "assert not is_valid_xml(_invalid2)"
   ]
  },
  {
   "cell_type": "code",
   "execution_count": 8,
   "id": "2c9604d3-0de1-4a39-b19b-30d4df5ce6d1",
   "metadata": {},
   "outputs": [],
   "source": [
    "#export\n",
    "def param2JSX(p:Parameter):\n",
    "    \"Format a numpydoc.docscrape.Parameters as JSX components\"\n",
    "    prefix = \"<Parameter\"\n",
    "    suffix = \" />\"\n",
    "    for a in ['name', 'type', 'desc']:\n",
    "        val = getattr(p, a)\n",
    "        if val:\n",
    "            if a == 'desc': \n",
    "                desc = '\\n'.join(val).encode('unicode_escape').decode('utf-8')\n",
    "                prefix += f' {a}=\"{desc}\"'\n",
    "            else: prefix += f' {a}=\"{val}\"'\n",
    "    return prefix.strip() + suffix"
   ]
  },
  {
   "cell_type": "code",
   "execution_count": 9,
   "id": "a9e05b10-6f86-4867-9437-898f619d1540",
   "metadata": {},
   "outputs": [],
   "source": [
    "_fd = FunctionDoc(ex.function_with_types_in_docstring)\n",
    "_p = _fd['Parameters'][0]\n",
    "\n",
    "test_eq(param2JSX(_p), '<Parameter name=\"param1\" type=\"int\" desc=\"The first parameter. something something\\\\nsecond line. foo\" />')\n",
    "assert is_valid_xml(param2JSX(_p))"
   ]
  },
  {
   "cell_type": "code",
   "execution_count": 10,
   "id": "2e35761a-4bec-4440-ba13-6be601dce757",
   "metadata": {},
   "outputs": [],
   "source": [
    "#export\n",
    "_re_returns = re.compile('\\nReturns\\n-------\\n(.*)', re.DOTALL)\n",
    "\n",
    "def _esc(s): return s.encode('unicode_escape').decode('utf-8').replace('\"', '&#34;')\n",
    "\n",
    "def _returns(docstring):\n",
    "    \"Parse just the returns section for properties.\"\n",
    "    returns = _re_returns.findall(docstring)\n",
    "    if returns: \n",
    "        args = returns[0].split('\\n    ')\n",
    "        if len(args) == 2: \n",
    "            typ,desc=args\n",
    "            return f'<ParamSection name=\"Returns\">\\n<Parameter type=\"{typ}\" desc=\"{_esc(desc)}\" />\\n</ParamSection>'\n",
    "        else: return ''\n",
    "    else: return ''\n",
    "\n",
    "def _desc(summary): return f'<Description summary=\"{_esc(summary)}\" />'\n",
    "\n",
    "def np2jsx(obj, skip_sections=''):\n",
    "    \"Turn Numpy Docstrings Into JSX components\"\n",
    "    if inspect.isclass(obj): doc = ClassDoc(obj)\n",
    "    elif _is_func(obj) or inspect.ismethod(obj): doc = FunctionDoc(obj)\n",
    "    else:\n",
    "        _summary = inspect.getdoc(obj)\n",
    "        ret = _returns(_summary) # get the return section if present\n",
    "        if ret: ret = '\\n'+ret\n",
    "        summary = _re_returns.sub('', _summary) # get rid of the Returns\n",
    "        return f'{_desc(summary)}{ret}'\n",
    "    \n",
    "    desc_list = []\n",
    "    for a in _ATTRS_STR_LIST:\n",
    "        nm = a.replace(' ', '_').lower()\n",
    "        desc = '\\n'.join(doc[a]).encode('unicode_escape').decode('utf-8').replace('\"', '&#34;')\n",
    "        if doc[a]: desc_list.append(f' {nm}=\"{desc}\"')\n",
    "    desc_props = ''.join(desc_list)\n",
    "    desc_component = f'<Description{desc_props} />' if desc_props else ''\n",
    "    \n",
    "    jsx_sections = []\n",
    "    for a in _ATTRS_PARAMS:\n",
    "        if a not in L(skip_sections):\n",
    "            params = doc[a]\n",
    "            if params:\n",
    "                jsx_params = '\\t' + '\\n\\t'.join([param2JSX(p) for p in params])\n",
    "                jsx_block = f'<ParamSection name=\"{a}\">\\n{jsx_params}\\n</ParamSection>'\n",
    "                jsx_sections.append(jsx_block)\n",
    "    \n",
    "    return desc_component+ '\\n' + '\\n'.join(jsx_sections)"
   ]
  },
  {
   "cell_type": "markdown",
   "id": "693fc690-9a37-4bde-a367-6e03ec99ead8",
   "metadata": {},
   "source": [
    "Below are some examples of docstrings and resulting JSX that comes out of them. This one is of a class:"
   ]
  },
  {
   "cell_type": "code",
   "execution_count": 11,
   "id": "735bfce7-8bfc-4217-869e-1703aec0768b",
   "metadata": {},
   "outputs": [
    {
     "name": "stdout",
     "output_type": "stream",
     "text": [
      "The summary line for a class docstring should fit on one line.\n",
      "\n",
      "If the class has public attributes, they may be documented here\n",
      "in an ``Attributes`` section and follow the same formatting as a\n",
      "function's ``Args`` section. Alternatively, attributes may be documented\n",
      "inline with the attribute's declaration (see __init__ method below).\n",
      "\n",
      "Properties created with the ``@property`` decorator should be documented\n",
      "in the property's getter method.\n",
      "\n",
      "Attributes\n",
      "----------\n",
      "attr1 : str\n",
      "    Description of `attr1`.\n",
      "attr2 : :obj:`int`, optional\n",
      "    Description of `attr2`.\n"
     ]
    }
   ],
   "source": [
    "print(inspect.getdoc(ex.ExampleClass))"
   ]
  },
  {
   "cell_type": "code",
   "execution_count": 12,
   "id": "ecb171fd-c03e-4e3d-8016-faa316b590ee",
   "metadata": {},
   "outputs": [
    {
     "name": "stdout",
     "output_type": "stream",
     "text": [
      "<Description summary=\"The summary line for a class docstring should fit on one line.\" extended_summary=\"If the class has public attributes, they may be documented here\\nin an ``Attributes`` section and follow the same formatting as a\\nfunction's ``Args`` section. Alternatively, attributes may be documented\\ninline with the attribute's declaration (see __init__ method below).\\n\\nProperties created with the ``@property`` decorator should be documented\\nin the property's getter method.\" />\n",
      "<ParamSection name=\"Attributes\">\n",
      "\t<Parameter name=\"attr1\" type=\"str\" desc=\"Description of `attr1`.\" />\n",
      "\t<Parameter name=\"attr2\" type=\":obj:`int`, optional\" desc=\"Description of `attr2`.\" />\n",
      "</ParamSection>\n"
     ]
    }
   ],
   "source": [
    "_res = np2jsx(ex.ExampleClass)\n",
    "assert '<Parameter name=\"attr1\" type=\"str\" desc=\"Description of `attr1`.\" />' in _res\n",
    "assert 'extended_summary=\"If the class has public attributes' in _res\n",
    "assert '</ParamSection>' in _res\n",
    "print(_res)"
   ]
  },
  {
   "cell_type": "markdown",
   "id": "3379c48a-8181-4cb1-9264-6f796b9be665",
   "metadata": {},
   "source": [
    "This next one is of a top-level function:"
   ]
  },
  {
   "cell_type": "code",
   "execution_count": 13,
   "id": "999c8471-d4a1-41cd-979e-7c108aed70a8",
   "metadata": {},
   "outputs": [
    {
     "name": "stdout",
     "output_type": "stream",
     "text": [
      "Example function with types documented in the docstring.\n",
      "\n",
      "`PEP 484`_ type annotations are supported. If attribute, parameter, and\n",
      "return types are annotated according to `PEP 484`_, they do not need to be\n",
      "included in the docstring:\n",
      "\n",
      "Parameters\n",
      "----------\n",
      "param1 : int\n",
      "    The first parameter. something something\n",
      "    second line. foo\n",
      "param2 : str\n",
      "    The second parameter.\n",
      "\n",
      "Returns\n",
      "-------\n",
      "bool\n",
      "    True if successful, False otherwise.\n"
     ]
    }
   ],
   "source": [
    "print(inspect.getdoc(ex.function_with_types_in_docstring))"
   ]
  },
  {
   "cell_type": "code",
   "execution_count": 14,
   "id": "0325da66-1b0f-4e2c-b5e9-cdf770ab8ae4",
   "metadata": {},
   "outputs": [
    {
     "name": "stdout",
     "output_type": "stream",
     "text": [
      "<Description summary=\"Example function with types documented in the docstring.\" extended_summary=\"`PEP 484`_ type annotations are supported. If attribute, parameter, and\\nreturn types are annotated according to `PEP 484`_, they do not need to be\\nincluded in the docstring:\" />\n",
      "<ParamSection name=\"Parameters\">\n",
      "\t<Parameter name=\"param1\" type=\"int\" desc=\"The first parameter. something something\\nsecond line. foo\" />\n",
      "\t<Parameter name=\"param2\" type=\"str\" desc=\"The second parameter.\" />\n",
      "</ParamSection>\n",
      "<ParamSection name=\"Returns\">\n",
      "\t<Parameter type=\"bool\" desc=\"True if successful, False otherwise.\" />\n",
      "</ParamSection>\n"
     ]
    }
   ],
   "source": [
    "_res = np2jsx(ex.function_with_types_in_docstring)\n",
    "assert 'extended_summary=\"`PEP 484`_ type annotations are supported' in _res\n",
    "assert '<Parameter name=\"param2\" type=\"str\" desc=\"The second parameter.\" />' in _res\n",
    "assert '<ParamSection name=\"Returns\">' in _res\n",
    "print(_res)"
   ]
  },
  {
   "cell_type": "code",
   "execution_count": 15,
   "id": "3f591de4-7f00-45d1-8159-aff4204adb02",
   "metadata": {},
   "outputs": [],
   "source": [
    "#export\n",
    "def fmt_sig_param(p:inspect.Parameter):\n",
    "    \"Format inspect.Parameters as JSX components.\"\n",
    "    name = str(p) if str(p).startswith('*') else p.name\n",
    "    prefix = f'<SigArg name=\"{name}\" '\n",
    "    \n",
    "    if p.annotation != inspect._empty:\n",
    "        prefix += f'type=\"{p.annotation.__name__}\" '\n",
    "    if p.default != inspect._empty:\n",
    "        prefix += f'default=\"{p.default}\" '\n",
    "\n",
    "    return prefix + \"/>\""
   ]
  },
  {
   "cell_type": "markdown",
   "id": "16da5d7d-c7be-4126-aa08-59c5ff077adb",
   "metadata": {},
   "source": [
    "`fmt_sig_param` converts individual parameters in signatures to JSX.  Let's take the complex signature below, for example:"
   ]
  },
  {
   "cell_type": "code",
   "execution_count": 16,
   "id": "0adfc434-f9ed-49a3-8061-e651e93c1669",
   "metadata": {},
   "outputs": [
    {
     "data": {
      "text/plain": [
       "<Signature (a: int, b: str = 'foo', c: float = 0.1, *args, **tags)>"
      ]
     },
     "execution_count": 16,
     "metadata": {},
     "output_type": "execute_result"
    }
   ],
   "source": [
    "_sig = inspect.signature(ex.Bar)\n",
    "_sig"
   ]
  },
  {
   "cell_type": "markdown",
   "id": "1d7460a5-bb52-4f8c-a7c7-808f8ee11642",
   "metadata": {},
   "source": [
    "Each of these parameters are then converted to JSX components"
   ]
  },
  {
   "cell_type": "code",
   "execution_count": 17,
   "id": "bbbe4731-bf49-451c-8015-cc8e1535990a",
   "metadata": {},
   "outputs": [],
   "source": [
    "_ps = _sig.parameters\n",
    "test_eq(fmt_sig_param(_ps['a']), '<SigArg name=\"a\" type=\"int\" />')\n",
    "test_eq(fmt_sig_param(_ps['b']), '<SigArg name=\"b\" type=\"str\" default=\"foo\" />')\n",
    "test_eq(fmt_sig_param(_ps['args']), '<SigArg name=\"*args\" />')\n",
    "test_eq(fmt_sig_param(_ps['tags']), '<SigArg name=\"**tags\" />')\n",
    "assert is_valid_xml(fmt_sig_param(_ps['b']))"
   ]
  },
  {
   "cell_type": "code",
   "execution_count": 18,
   "id": "5c5ae88d-958a-4b59-a56e-4384ccf6b91d",
   "metadata": {},
   "outputs": [],
   "source": [
    "#export\n",
    "def get_sig_section(obj, spoofstr=None):\n",
    "    \"Get JSX section from the signature of a class or function consisting of all of the argument. Optionally replace signature with `spoofstr`\"\n",
    "    if spoofstr is None:\n",
    "        if not inspect.isclass(obj) and not _is_func(obj) and not inspect.ismethod(obj): return \"\"\n",
    "        try: \n",
    "            sig = inspect.signature(obj)\n",
    "        except: \n",
    "            return ''\n",
    "        params = sig.parameters.items()\n",
    "        jsx_params = [fmt_sig_param(p) for _, p in params]\n",
    "    else:\n",
    "        jsx_params = [f'<SigArg name=\"{spoofstr}\" />']\n",
    "    return \"<SigArgSection>\\n\" + ''.join(jsx_params) +\"\\n</SigArgSection>\""
   ]
  },
  {
   "cell_type": "markdown",
   "id": "fab8f6a2-dd1e-4220-aa6e-9358528692ce",
   "metadata": {},
   "source": [
    "Let's take the class Bar, for example:"
   ]
  },
  {
   "cell_type": "code",
   "execution_count": 19,
   "id": "31be4c90-1b8b-4943-a928-a7c2842ceaae",
   "metadata": {},
   "outputs": [
    {
     "data": {
      "text/plain": [
       "<Signature (a: int, b: str = 'foo', c: float = 0.1, *args, **tags)>"
      ]
     },
     "execution_count": 19,
     "metadata": {},
     "output_type": "execute_result"
    }
   ],
   "source": [
    "inspect.signature(ex.Bar)"
   ]
  },
  {
   "cell_type": "markdown",
   "id": "bf7ec70b-871a-4413-bd37-1e84a723e884",
   "metadata": {},
   "source": [
    "The signature will get converted to JSX components, like so:"
   ]
  },
  {
   "cell_type": "code",
   "execution_count": 20,
   "id": "c34a9a55-7e72-487b-926d-f1c5fdd1d729",
   "metadata": {},
   "outputs": [
    {
     "name": "stdout",
     "output_type": "stream",
     "text": [
      "<SigArgSection>\n",
      "<SigArg name=\"a\" type=\"int\" /><SigArg name=\"b\" type=\"str\" default=\"foo\" /><SigArg name=\"c\" type=\"float\" default=\"0.1\" /><SigArg name=\"*args\" /><SigArg name=\"**tags\" />\n",
      "</SigArgSection>\n"
     ]
    }
   ],
   "source": [
    "_ex_result=\"\"\"<SigArgSection>\n",
    "<SigArg name=\"a\" type=\"int\" /><SigArg name=\"b\" type=\"str\" default=\"foo\" /><SigArg name=\"c\" type=\"float\" default=\"0.1\" /><SigArg name=\"*args\" /><SigArg name=\"**tags\" />\n",
    "</SigArgSection>\n",
    "\"\"\".strip()\n",
    "\n",
    "_gen_result = get_sig_section(ex.Bar)\n",
    "assert is_valid_xml(_gen_result) # make sure its valid xml\n",
    "test_eq(_gen_result, _ex_result)\n",
    "print(_gen_result)"
   ]
  },
  {
   "cell_type": "code",
   "execution_count": 21,
   "id": "a74619c1-b53f-43db-8ba1-5b6ce43033fc",
   "metadata": {},
   "outputs": [],
   "source": [
    "#hide\n",
    "assert '<SigArg name=\"...\" />' in get_sig_section(ex.Bar, spoofstr='...')"
   ]
  },
  {
   "cell_type": "code",
   "execution_count": 22,
   "id": "bbeb19c0-6c5d-4bac-8838-7100fcdb0a2c",
   "metadata": {},
   "outputs": [],
   "source": [
    "#hide\n",
    "from fastcore.all import AttrDict\n",
    "test_eq(get_sig_section(AttrDict), '') # this object has no signature"
   ]
  },
  {
   "cell_type": "code",
   "execution_count": 23,
   "id": "355773d2-848b-4d07-aa7e-e8f63e22e9ca",
   "metadata": {},
   "outputs": [],
   "source": [
    "#export\n",
    "def get_type(obj):\n",
    "    \"Return type of object as a either 'method', 'function', 'class' or `None`.\"\n",
    "    typ = None\n",
    "    if inspect.ismethod(obj): return 'method'\n",
    "    if hasattr(obj, 'fget'): return 'property'\n",
    "    if _is_func(obj):\n",
    "        try: \n",
    "            sig = inspect.signature(obj)\n",
    "            if 'self' in sig.parameters: typ = 'method'\n",
    "            else: typ = 'function'\n",
    "        except ValueError:\n",
    "            return 'function'\n",
    "    elif inspect.isclass(obj): typ = 'class'\n",
    "    return typ"
   ]
  },
  {
   "cell_type": "code",
   "execution_count": 24,
   "id": "1d983b4a-11cd-4c90-af89-6862321a7f86",
   "metadata": {},
   "outputs": [],
   "source": [
    "test_eq(get_type(ex.function_with_types_in_docstring),'function')\n",
    "test_eq(get_type(ex.ExampleClass), 'class')\n",
    "test_eq(get_type(ex.ExampleClass.example_method), 'method')"
   ]
  },
  {
   "cell_type": "code",
   "execution_count": 25,
   "id": "43c2f46c-416e-4934-aafd-086db038cd30",
   "metadata": {},
   "outputs": [],
   "source": [
    "#hide\n",
    "from fastcore.all import AttrDict\n",
    "test_eq(get_type(AttrDict), 'class')"
   ]
  },
  {
   "cell_type": "code",
   "execution_count": 26,
   "id": "03413772-69d6-4757-9ce0-511c2094a9b0",
   "metadata": {},
   "outputs": [],
   "source": [
    "#export\n",
    "def get_base_urls(warn=False, param='module_baseurls') -> dict:\n",
    "    \"Get baseurls from config file\"\n",
    "    cfg = get_config()\n",
    "    if param not in cfg:\n",
    "        if warn: warnings.warn(f\"Did not find `{param}` setting in {cfg.config_file}\")\n",
    "        return {}\n",
    "    return dict([b.split('=', 1) for b in cfg.module_baseurls.split('\\n')])"
   ]
  },
  {
   "cell_type": "markdown",
   "id": "cd7cdc40-0117-4ae8-a73e-0c59c5ef7448",
   "metadata": {},
   "source": [
    "This project has a settings.ini which defines the `module_baseurls` parameter.  `get_base_urls` will return a dictionary of all the baseurls defined there.  This is useful used to construct URLs to source code in documentation. \n",
    "\n",
    "Here is how the relevant parts of this project's `settings.ini` file is defined:\n",
    "\n",
    "```\n",
    "module_baseurls = metaflow=https://github.com/Netflix/metaflow/tree/master/\n",
    "\tnbdev=https://github.com/fastai/nbdev/tree/master\n",
    "\tfastcore=https://github.com/fastcore/tree/master\n",
    "\n",
    "```"
   ]
  },
  {
   "cell_type": "code",
   "execution_count": 27,
   "id": "e3aa1d9f-7b54-4532-89cd-34eada82e483",
   "metadata": {},
   "outputs": [
    {
     "data": {
      "text/plain": [
       "{'metaflow': 'https://github.com/Netflix/metaflow/tree/master/',\n",
       " 'nbdev': 'https://github.com/fastai/nbdev/tree/master',\n",
       " 'fastcore': 'https://github.com/fastcore/tree/master'}"
      ]
     },
     "execution_count": 27,
     "metadata": {},
     "output_type": "execute_result"
    }
   ],
   "source": [
    "_base_urls = get_base_urls()\n",
    "assert len(_base_urls.keys()) == 3\n",
    "_base_urls"
   ]
  },
  {
   "cell_type": "code",
   "execution_count": 28,
   "id": "47fe604c-dcda-4341-bca1-f55842eccdc1",
   "metadata": {},
   "outputs": [],
   "source": [
    "#export\n",
    "#hide\n",
    "def _get_name(var):\n",
    "    try:\n",
    "        callers_local_vars = inspect.currentframe().f_back.f_back.f_back.f_locals.items()\n",
    "        return [var_name for var_name, var_val in callers_local_vars if var_val is var][0]\n",
    "    except:\n",
    "        return None"
   ]
  },
  {
   "cell_type": "code",
   "execution_count": 29,
   "id": "7a0fa9ca-4ac5-4eab-8283-5c542a466b46",
   "metadata": {},
   "outputs": [],
   "source": [
    "#export\n",
    "#hide\n",
    "def _get_mf_obj(obj):\n",
    "    \"Get decorator partials for Metaflow.\"\n",
    "    if type(obj) == partial and hasattr(obj, 'args'):\n",
    "        args=getattr(obj, 'args')\n",
    "        if args:\n",
    "            arg = args[0]\n",
    "            if hasattr(arg, '__name__'):\n",
    "                nm = arg.__name__\n",
    "                if nm and 'decorator' in nm.lower():\n",
    "                    newnm = _get_name(obj)\n",
    "                    arg.__newname__ = newnm if newnm else nm\n",
    "                    arg.__ismfdecorator__ = True\n",
    "                    return arg\n",
    "        else:\n",
    "            return obj.func\n",
    "    else:\n",
    "        return obj"
   ]
  },
  {
   "cell_type": "code",
   "execution_count": 30,
   "id": "10e96770-4153-4507-a8d1-7d7ca1866ef8",
   "metadata": {},
   "outputs": [],
   "source": [
    "#hide\n",
    "def _func(a,b): pass\n",
    "def _adecorator(): pass\n",
    "_bar = partial(_func, _adecorator)\n",
    "_bar2 = partial(_func, a=1)"
   ]
  },
  {
   "cell_type": "code",
   "execution_count": 31,
   "id": "8838f5ee-c4e4-4719-8ba2-459d0ea23993",
   "metadata": {},
   "outputs": [],
   "source": [
    "#hide\n",
    "def _run_get_obj(obj): return _get_mf_obj(obj)\n",
    "test_eq(_run_get_obj(_bar).__name__, '_adecorator')\n",
    "test_eq(_run_get_obj(_bar).__newname__, '_bar')\n",
    "test_eq(_run_get_obj(_bar2).__name__, '_func') # gets the function from the partial, since no decorator"
   ]
  },
  {
   "cell_type": "code",
   "execution_count": 32,
   "id": "aba26c5a-10dc-4b97-9382-3f90252b81c4",
   "metadata": {},
   "outputs": [],
   "source": [
    "#export\n",
    "class ShowDoc:\n",
    "    def __init__(self, obj, \n",
    "                 hd_lvl=None, # override heading level\n",
    "                 name=None, # override name of object ex: '@mydecorator'\n",
    "                 objtype=None, # override type of object. ex: 'decorator'\n",
    "                 module_nm=None, #override module name. ex: 'fastai.vision'\n",
    "                 decorator=False, #same as setting `objtype` = 'decorator'\n",
    "                 spoofstr=None, # Spoof the signature\n",
    "                 show_import=False, #show import statement\n",
    "                 skip_sections='' # list of sections to skip, one or more of 'Parameters', 'Attributes', 'Returns', 'Yields', 'Raises'\n",
    "                ):\n",
    "        \"Construct the html and JSX representation for a particular object.\"\n",
    "        self.spoofstr = spoofstr\n",
    "        self.show_import = show_import\n",
    "        if decorator: objtype = 'decorator'\n",
    "        self.obj = _get_mf_obj(obj)\n",
    "        #special handling for metaflow decorators\n",
    "        if hasattr(self.obj, '__ismfdecorator__'):\n",
    "            decorator = True\n",
    "            objtype = 'decorator'\n",
    "            name = self.obj.__newname__\n",
    "        self.decorator = decorator\n",
    "        self.typ = get_type(self.obj) if not objtype else objtype\n",
    "        # if not self.typ: raise ValueError(f'Can only parse a class or a function, but got a {type(self.obj)}')\n",
    "        self.npdocs = np2jsx(self.obj, skip_sections=skip_sections)\n",
    "        \n",
    "        if self.typ == 'method': default_nm = self.obj.__qualname__ \n",
    "        elif self.typ == 'property': \n",
    "            default_nm = self.obj.fget.__qualname__\n",
    "            module_nm = inspect.getmodule(self.obj.fget).__name__\n",
    "        else: default_nm = self.obj.__name__\n",
    "        \n",
    "        self.objnm = default_nm if not name else name\n",
    "\n",
    "        self.modnm = inspect.getmodule(self.obj).__name__ if not module_nm else module_nm\n",
    "        \n",
    "        if hd_lvl: self.hd_lvl = hd_lvl\n",
    "        elif self.typ in ['method', 'property']: self.hd_lvl = 4\n",
    "        else: self.hd_lvl = 3\n",
    "        self.link_suffix = get_source_link(self.obj)\n",
    "        \n",
    "    def _repr_html_(self):\n",
    "        \"This method controls what is displayed in Jupyter Notebooks.\"\n",
    "        return f'<HTMLRemove>\\n{self.nbhtml}\\n</HTMLRemove>\\n{self.jsx}'\n",
    "    \n",
    "    @property\n",
    "    def nbhtml(self): \n",
    "        \"HTML to be shown in the notebook\"\n",
    "        name=self.objnm\n",
    "        if self.decorator and not name.startswith('@'):name = '@' + name\n",
    "        hd_prefix = f'<h{self.hd_lvl}> <code>{self.typ}</code> <span style=\"color:Brown\">{name}</span> <em>{self._html_signature}</em>'\n",
    "        if self.src_link: hd_prefix += f'<a href=\"{self.src_link}\" style=\"float:right\">[source]</a>'\n",
    "        hd_prefix += f'</h{self.hd_lvl}>'\n",
    "        if self.show_import: hd_prefix += f'<strong>{self.modnm}</strong>'\n",
    "        if self._html_docstring: hd_prefix += f'<p>{self._html_docstring}</p>'\n",
    "        return hd_prefix\n",
    "    \n",
    "    @property\n",
    "    def _html_docstring(self):\n",
    "        \"Docstrings in HTML format\"\n",
    "        doc = inspect.getdoc(self.obj)\n",
    "        if not doc: return ''\n",
    "        return '<blockquote>'+doc.replace(' ', '&nbsp;').replace('\\n', '<br>').strip()+'</blockquote>'\n",
    "        \n",
    "    @property\n",
    "    def _html_signature(self):\n",
    "        if self.decorator: sig = '(...)'\n",
    "        elif self.spoofstr is not None: sig = self.spoofstr\n",
    "        else:\n",
    "            try: sig = str(inspect.signature(self.obj))\n",
    "            except: sig = ''\n",
    "        return sig\n",
    "    \n",
    "    @property\n",
    "    def jsx(self):\n",
    "        \"Returns the JSX components.\"\n",
    "        nm = f'<DocSection type=\"{self.typ}\" name=\"{self.objnm}\" module=\"{self.modnm}\" show_import=\"{self.show_import}\" heading_level=\"{self.hd_lvl}\"{self._src_link_attr}>'\n",
    "        spoof = '...' if self.decorator else self.spoofstr\n",
    "        sp = get_sig_section(self.obj, spoofstr=spoof)\n",
    "        return f'{nm}\\n{sp}\\n' + self.npdocs + '\\n</DocSection>'\n",
    "    \n",
    "    @property\n",
    "    def src_link(self):\n",
    "        \"Construct the full link if it can be found.\"\n",
    "        base_url = get_base_urls().get(self.modnm.split('.')[0])\n",
    "        if base_url: return base_url + self.link_suffix\n",
    "        else: return None\n",
    "    \n",
    "    @property\n",
    "    def _src_link_attr(self):\n",
    "        \"JSX attribute if full link is found, otherwhise empty string.\"\n",
    "        if not self.src_link: return ''\n",
    "        else: return f' link=\"{self.src_link}\"'"
   ]
  },
  {
   "cell_type": "markdown",
   "id": "333b8aff-81ca-4339-ab69-5df8c09e426c",
   "metadata": {},
   "source": [
    "`ShowDoc` will render the function signature as well as other info that may help you author documentation for a function, method, or class in a notebook:\n",
    "\n",
    "Below, we render the docs for a class:"
   ]
  },
  {
   "cell_type": "code",
   "execution_count": 33,
   "id": "b3b151d4-e6b8-4eef-b6a9-97f8213bb04f",
   "metadata": {},
   "outputs": [
    {
     "data": {
      "text/html": [
       "<HTMLRemove>\n",
       "<h3> <code>class</code> <span style=\"color:Brown\">ExampleClass</span> <em>(param1, param2, param3)</em></h3><p><blockquote>The&nbsp;summary&nbsp;line&nbsp;for&nbsp;a&nbsp;class&nbsp;docstring&nbsp;should&nbsp;fit&nbsp;on&nbsp;one&nbsp;line.<br><br>If&nbsp;the&nbsp;class&nbsp;has&nbsp;public&nbsp;attributes,&nbsp;they&nbsp;may&nbsp;be&nbsp;documented&nbsp;here<br>in&nbsp;an&nbsp;``Attributes``&nbsp;section&nbsp;and&nbsp;follow&nbsp;the&nbsp;same&nbsp;formatting&nbsp;as&nbsp;a<br>function's&nbsp;``Args``&nbsp;section.&nbsp;Alternatively,&nbsp;attributes&nbsp;may&nbsp;be&nbsp;documented<br>inline&nbsp;with&nbsp;the&nbsp;attribute's&nbsp;declaration&nbsp;(see&nbsp;__init__&nbsp;method&nbsp;below).<br><br>Properties&nbsp;created&nbsp;with&nbsp;the&nbsp;``@property``&nbsp;decorator&nbsp;should&nbsp;be&nbsp;documented<br>in&nbsp;the&nbsp;property's&nbsp;getter&nbsp;method.<br><br>Attributes<br>----------<br>attr1&nbsp;:&nbsp;str<br>&nbsp;&nbsp;&nbsp;&nbsp;Description&nbsp;of&nbsp;`attr1`.<br>attr2&nbsp;:&nbsp;:obj:`int`,&nbsp;optional<br>&nbsp;&nbsp;&nbsp;&nbsp;Description&nbsp;of&nbsp;`attr2`.</blockquote></p>\n",
       "</HTMLRemove>\n",
       "<DocSection type=\"class\" name=\"ExampleClass\" module=\"test_lib.example\" show_import=\"False\" heading_level=\"3\">\n",
       "<SigArgSection>\n",
       "<SigArg name=\"param1\" /><SigArg name=\"param2\" /><SigArg name=\"param3\" />\n",
       "</SigArgSection>\n",
       "<Description summary=\"The summary line for a class docstring should fit on one line.\" extended_summary=\"If the class has public attributes, they may be documented here\\nin an ``Attributes`` section and follow the same formatting as a\\nfunction's ``Args`` section. Alternatively, attributes may be documented\\ninline with the attribute's declaration (see __init__ method below).\\n\\nProperties created with the ``@property`` decorator should be documented\\nin the property's getter method.\" />\n",
       "<ParamSection name=\"Attributes\">\n",
       "\t<Parameter name=\"attr1\" type=\"str\" desc=\"Description of `attr1`.\" />\n",
       "\t<Parameter name=\"attr2\" type=\":obj:`int`, optional\" desc=\"Description of `attr2`.\" />\n",
       "</ParamSection>\n",
       "</DocSection>"
      ],
      "text/plain": [
       "<__main__.ShowDoc at 0x111c14be0>"
      ]
     },
     "execution_count": 33,
     "metadata": {},
     "output_type": "execute_result"
    }
   ],
   "source": [
    "ShowDoc(ex.ExampleClass)"
   ]
  },
  {
   "cell_type": "markdown",
   "id": "8dfca4e9-417a-427a-8bc6-02574b52bfac",
   "metadata": {},
   "source": [
    "There is a special override for decorators:"
   ]
  },
  {
   "cell_type": "code",
   "execution_count": 34,
   "id": "647d4e79-a8db-4cc5-af22-6f2f54bbea89",
   "metadata": {},
   "outputs": [
    {
     "data": {
      "text/html": [
       "<HTMLRemove>\n",
       "<h3> <code>decorator</code> <span style=\"color:Brown\">@example</span> <em>(...)</em></h3><p><blockquote>The&nbsp;summary&nbsp;line&nbsp;for&nbsp;a&nbsp;class&nbsp;docstring&nbsp;should&nbsp;fit&nbsp;on&nbsp;one&nbsp;line.<br><br>If&nbsp;the&nbsp;class&nbsp;has&nbsp;public&nbsp;attributes,&nbsp;they&nbsp;may&nbsp;be&nbsp;documented&nbsp;here<br>in&nbsp;an&nbsp;``Attributes``&nbsp;section&nbsp;and&nbsp;follow&nbsp;the&nbsp;same&nbsp;formatting&nbsp;as&nbsp;a<br>function's&nbsp;``Args``&nbsp;section.&nbsp;Alternatively,&nbsp;attributes&nbsp;may&nbsp;be&nbsp;documented<br>inline&nbsp;with&nbsp;the&nbsp;attribute's&nbsp;declaration&nbsp;(see&nbsp;__init__&nbsp;method&nbsp;below).<br><br>Properties&nbsp;created&nbsp;with&nbsp;the&nbsp;``@property``&nbsp;decorator&nbsp;should&nbsp;be&nbsp;documented<br>in&nbsp;the&nbsp;property's&nbsp;getter&nbsp;method.<br><br>Attributes<br>----------<br>attr1&nbsp;:&nbsp;str<br>&nbsp;&nbsp;&nbsp;&nbsp;Description&nbsp;of&nbsp;`attr1`.<br>attr2&nbsp;:&nbsp;:obj:`int`,&nbsp;optional<br>&nbsp;&nbsp;&nbsp;&nbsp;Description&nbsp;of&nbsp;`attr2`.</blockquote></p>\n",
       "</HTMLRemove>\n",
       "<DocSection type=\"decorator\" name=\"example\" module=\"test_lib.example\" show_import=\"False\" heading_level=\"3\">\n",
       "<SigArgSection>\n",
       "<SigArg name=\"...\" />\n",
       "</SigArgSection>\n",
       "<Description summary=\"The summary line for a class docstring should fit on one line.\" extended_summary=\"If the class has public attributes, they may be documented here\\nin an ``Attributes`` section and follow the same formatting as a\\nfunction's ``Args`` section. Alternatively, attributes may be documented\\ninline with the attribute's declaration (see __init__ method below).\\n\\nProperties created with the ``@property`` decorator should be documented\\nin the property's getter method.\" />\n",
       "<ParamSection name=\"Attributes\">\n",
       "\t<Parameter name=\"attr1\" type=\"str\" desc=\"Description of `attr1`.\" />\n",
       "\t<Parameter name=\"attr2\" type=\":obj:`int`, optional\" desc=\"Description of `attr2`.\" />\n",
       "</ParamSection>\n",
       "</DocSection>"
      ],
      "text/plain": [
       "<__main__.ShowDoc at 0x111c0c550>"
      ]
     },
     "execution_count": 34,
     "metadata": {},
     "output_type": "execute_result"
    }
   ],
   "source": [
    "ShowDoc(ex.ExampleClass, decorator=True, name='example')"
   ]
  },
  {
   "cell_type": "markdown",
   "id": "2b862890-5d82-4fbe-935e-44f2782e79b1",
   "metadata": {},
   "source": [
    "There is also a special override for the module name:"
   ]
  },
  {
   "cell_type": "code",
   "execution_count": 35,
   "id": "8fd5dabb-1e51-480e-88a9-a3c8e6c29eb4",
   "metadata": {},
   "outputs": [
    {
     "data": {
      "text/html": [
       "<HTMLRemove>\n",
       "<h3> <code>decorator</code> <span style=\"color:Brown\">@example</span> <em>(...)</em></h3><p><blockquote>The&nbsp;summary&nbsp;line&nbsp;for&nbsp;a&nbsp;class&nbsp;docstring&nbsp;should&nbsp;fit&nbsp;on&nbsp;one&nbsp;line.<br><br>If&nbsp;the&nbsp;class&nbsp;has&nbsp;public&nbsp;attributes,&nbsp;they&nbsp;may&nbsp;be&nbsp;documented&nbsp;here<br>in&nbsp;an&nbsp;``Attributes``&nbsp;section&nbsp;and&nbsp;follow&nbsp;the&nbsp;same&nbsp;formatting&nbsp;as&nbsp;a<br>function's&nbsp;``Args``&nbsp;section.&nbsp;Alternatively,&nbsp;attributes&nbsp;may&nbsp;be&nbsp;documented<br>inline&nbsp;with&nbsp;the&nbsp;attribute's&nbsp;declaration&nbsp;(see&nbsp;__init__&nbsp;method&nbsp;below).<br><br>Properties&nbsp;created&nbsp;with&nbsp;the&nbsp;``@property``&nbsp;decorator&nbsp;should&nbsp;be&nbsp;documented<br>in&nbsp;the&nbsp;property's&nbsp;getter&nbsp;method.<br><br>Attributes<br>----------<br>attr1&nbsp;:&nbsp;str<br>&nbsp;&nbsp;&nbsp;&nbsp;Description&nbsp;of&nbsp;`attr1`.<br>attr2&nbsp;:&nbsp;:obj:`int`,&nbsp;optional<br>&nbsp;&nbsp;&nbsp;&nbsp;Description&nbsp;of&nbsp;`attr2`.</blockquote></p>\n",
       "</HTMLRemove>\n",
       "<DocSection type=\"decorator\" name=\"example\" module=\"mymodule.foo\" show_import=\"False\" heading_level=\"3\">\n",
       "<SigArgSection>\n",
       "<SigArg name=\"...\" />\n",
       "</SigArgSection>\n",
       "<Description summary=\"The summary line for a class docstring should fit on one line.\" extended_summary=\"If the class has public attributes, they may be documented here\\nin an ``Attributes`` section and follow the same formatting as a\\nfunction's ``Args`` section. Alternatively, attributes may be documented\\ninline with the attribute's declaration (see __init__ method below).\\n\\nProperties created with the ``@property`` decorator should be documented\\nin the property's getter method.\" />\n",
       "<ParamSection name=\"Attributes\">\n",
       "\t<Parameter name=\"attr1\" type=\"str\" desc=\"Description of `attr1`.\" />\n",
       "\t<Parameter name=\"attr2\" type=\":obj:`int`, optional\" desc=\"Description of `attr2`.\" />\n",
       "</ParamSection>\n",
       "</DocSection>"
      ],
      "text/plain": [
       "<__main__.ShowDoc at 0x111c17ca0>"
      ]
     },
     "execution_count": 35,
     "metadata": {},
     "output_type": "execute_result"
    }
   ],
   "source": [
    "ShowDoc(ex.ExampleClass, decorator=True, name='example', module_nm='mymodule.foo')"
   ]
  },
  {
   "cell_type": "code",
   "execution_count": 36,
   "id": "aa5787c4-e592-4b14-bbbe-63043d569a1b",
   "metadata": {},
   "outputs": [],
   "source": [
    "#hide\n",
    "_res = ShowDoc(ex.ExampleClass, spoofstr='()').jsx\n",
    "assert '<SigArg name=\"()\" />' in _res #make sure spoofstr works\n",
    "assert 'show_import=\"False\"' in _res\n",
    "_res = ShowDoc(ex.ExampleClass, show_import=True).jsx\n",
    "assert 'show_import=\"True\"' in _res"
   ]
  },
  {
   "cell_type": "code",
   "execution_count": 37,
   "id": "479dae23-5809-4ed0-b2f7-2e9052c24cab",
   "metadata": {},
   "outputs": [],
   "source": [
    "#hide\n",
    "_res = ShowDoc(ex.ExampleClass, decorator=True, name='example').jsx\n",
    "_res\n",
    "assert 'type=\"decorator\" name=\"example\"' in  _res\n",
    "assert '<SigArg name=\"...\" />' in _res\n",
    "\n",
    "_res = ShowDoc(ex.ExampleClass, decorator=True, name='example', module_nm='mymod.foo').jsx\n",
    "assert 'module=\"mymod.foo\"' in _res"
   ]
  },
  {
   "cell_type": "code",
   "execution_count": 38,
   "id": "1b89a3ce-5cd2-4265-916a-6c930d84b5ad",
   "metadata": {},
   "outputs": [
    {
     "data": {
      "text/html": [
       "<HTMLRemove>\n",
       "<h3> <code>class</code> <span style=\"color:Brown\">ExampleClass</span> <em>(param1, param2, param3)</em></h3><p><blockquote>The&nbsp;summary&nbsp;line&nbsp;for&nbsp;a&nbsp;class&nbsp;docstring&nbsp;should&nbsp;fit&nbsp;on&nbsp;one&nbsp;line.<br><br>If&nbsp;the&nbsp;class&nbsp;has&nbsp;public&nbsp;attributes,&nbsp;they&nbsp;may&nbsp;be&nbsp;documented&nbsp;here<br>in&nbsp;an&nbsp;``Attributes``&nbsp;section&nbsp;and&nbsp;follow&nbsp;the&nbsp;same&nbsp;formatting&nbsp;as&nbsp;a<br>function's&nbsp;``Args``&nbsp;section.&nbsp;Alternatively,&nbsp;attributes&nbsp;may&nbsp;be&nbsp;documented<br>inline&nbsp;with&nbsp;the&nbsp;attribute's&nbsp;declaration&nbsp;(see&nbsp;__init__&nbsp;method&nbsp;below).<br><br>Properties&nbsp;created&nbsp;with&nbsp;the&nbsp;``@property``&nbsp;decorator&nbsp;should&nbsp;be&nbsp;documented<br>in&nbsp;the&nbsp;property's&nbsp;getter&nbsp;method.<br><br>Attributes<br>----------<br>attr1&nbsp;:&nbsp;str<br>&nbsp;&nbsp;&nbsp;&nbsp;Description&nbsp;of&nbsp;`attr1`.<br>attr2&nbsp;:&nbsp;:obj:`int`,&nbsp;optional<br>&nbsp;&nbsp;&nbsp;&nbsp;Description&nbsp;of&nbsp;`attr2`.</blockquote></p>\n",
       "</HTMLRemove>\n",
       "<DocSection type=\"class\" name=\"ExampleClass\" module=\"test_lib.example\" show_import=\"False\" heading_level=\"3\">\n",
       "<SigArgSection>\n",
       "<SigArg name=\"param1\" /><SigArg name=\"param2\" /><SigArg name=\"param3\" />\n",
       "</SigArgSection>\n",
       "<Description summary=\"The summary line for a class docstring should fit on one line.\" extended_summary=\"If the class has public attributes, they may be documented here\\nin an ``Attributes`` section and follow the same formatting as a\\nfunction's ``Args`` section. Alternatively, attributes may be documented\\ninline with the attribute's declaration (see __init__ method below).\\n\\nProperties created with the ``@property`` decorator should be documented\\nin the property's getter method.\" />\n",
       "\n",
       "</DocSection>"
      ],
      "text/plain": [
       "<__main__.ShowDoc at 0x111c0f4c0>"
      ]
     },
     "execution_count": 38,
     "metadata": {},
     "output_type": "execute_result"
    }
   ],
   "source": [
    "ShowDoc(ex.ExampleClass, skip_sections='Attributes')"
   ]
  },
  {
   "cell_type": "code",
   "execution_count": 39,
   "id": "15382f11-c42b-41e1-b171-fa14b22f2226",
   "metadata": {},
   "outputs": [],
   "source": [
    "#hide\n",
    "\n",
    "# Ability to hide sections in jsx\n",
    "_res = ShowDoc(ex.ExampleClass, skip_sections='Attributes').jsx\n",
    "assert 'ParamSection name=\"Attributes\"' not in _res\n",
    "\n",
    "_res = ShowDoc(ex.ExampleClass.readwrite_property, skip_sections='Attributes').jsx\n",
    "assert '<Parameter type=\"int\" desc=\"Index of the task in a foreach step\" />' in _res"
   ]
  },
  {
   "cell_type": "markdown",
   "id": "b49c68b9-4893-47c7-8908-6aba00854e02",
   "metadata": {},
   "source": [
    "Below, we render docs for method.  Note that you will receive an warning if your docstrings are not able to be parsed according to the numpy format:"
   ]
  },
  {
   "cell_type": "code",
   "execution_count": 40,
   "id": "1fa340c4-e25f-4c9f-9824-5bc91d2f4685",
   "metadata": {},
   "outputs": [
    {
     "name": "stderr",
     "output_type": "stream",
     "text": [
      "/Users/hamel/opt/anaconda3/envs/nbdoc/lib/python3.10/site-packages/numpydoc/docscrape.py:434: UserWarning: Unknown section Note in the docstring of example_method in /Users/hamel/github/nbdoc/nbs/test_lib/example.py.\n",
      "  warn(msg)\n"
     ]
    },
    {
     "data": {
      "text/html": [
       "<HTMLRemove>\n",
       "<h4> <code>method</code> <span style=\"color:Brown\">ExampleClass.example_method</span> <em>(param1, param2)</em></h4><p><blockquote>Class&nbsp;methods&nbsp;are&nbsp;similar&nbsp;to&nbsp;regular&nbsp;functions.<br><br>Note<br>----<br>Do&nbsp;not&nbsp;include&nbsp;the&nbsp;`self`&nbsp;parameter&nbsp;in&nbsp;the&nbsp;``Parameters``&nbsp;section.<br><br>Parameters<br>----------<br>param1<br>&nbsp;&nbsp;&nbsp;&nbsp;The&nbsp;first&nbsp;parameter.<br>param2<br>&nbsp;&nbsp;&nbsp;&nbsp;The&nbsp;second&nbsp;parameter.<br><br>Returns<br>-------<br>bool<br>&nbsp;&nbsp;&nbsp;&nbsp;True&nbsp;if&nbsp;successful,&nbsp;False&nbsp;otherwise.</blockquote></p>\n",
       "</HTMLRemove>\n",
       "<DocSection type=\"method\" name=\"ExampleClass.example_method\" module=\"test_lib.example\" show_import=\"False\" heading_level=\"4\">\n",
       "<SigArgSection>\n",
       "<SigArg name=\"param1\" /><SigArg name=\"param2\" />\n",
       "</SigArgSection>\n",
       "<Description summary=\"Class methods are similar to regular functions.\" />\n",
       "<ParamSection name=\"Parameters\">\n",
       "\t<Parameter name=\"param1\" desc=\"The first parameter.\" />\n",
       "\t<Parameter name=\"param2\" desc=\"The second parameter.\" />\n",
       "</ParamSection>\n",
       "<ParamSection name=\"Returns\">\n",
       "\t<Parameter type=\"bool\" desc=\"True if successful, False otherwise.\" />\n",
       "</ParamSection>\n",
       "</DocSection>"
      ],
      "text/plain": [
       "<__main__.ShowDoc at 0x111c0ecb0>"
      ]
     },
     "execution_count": 40,
     "metadata": {},
     "output_type": "execute_result"
    }
   ],
   "source": [
    "ShowDoc(ex.ExampleClass.example_method)"
   ]
  },
  {
   "cell_type": "code",
   "execution_count": 41,
   "id": "58d33dc3-6063-4cc1-b887-df981372bde2",
   "metadata": {},
   "outputs": [],
   "source": [
    "#hide\n",
    "_res = ShowDoc(ex.ExampleClass.example_method).jsx\n",
    "assert 'ExampleClass.example_method' in _res # for methods, we put the class name in there as well."
   ]
  },
  {
   "cell_type": "code",
   "execution_count": 42,
   "id": "30c099e8-4bbd-4d95-8559-437edf201bad",
   "metadata": {},
   "outputs": [],
   "source": [
    "#hide\n",
    "_res = ShowDoc(ex.ExampleClass.example_method).jsx\n",
    "assert 'heading_level=\"4\"' in _res\n",
    "assert '<SigArg name=\"param1\" /><SigArg name=\"param2\" />' in _res\n",
    "assert '<Parameter name=\"param1\" desc=\"The first parameter.\" />' in _res\n",
    "assert '<Parameter name=\"param2\" desc=\"The second parameter.\" />' in _res"
   ]
  },
  {
   "cell_type": "markdown",
   "id": "db3b8911-6cdf-496b-bfbb-6384f8e1cce8",
   "metadata": {},
   "source": [
    "We can also render properties as well:"
   ]
  },
  {
   "cell_type": "code",
   "execution_count": 43,
   "id": "8639c775-3e1d-4170-bfef-677b2f865aae",
   "metadata": {},
   "outputs": [
    {
     "data": {
      "text/html": [
       "<HTMLRemove>\n",
       "<h4> <code>property</code> <span style=\"color:Brown\">ExampleClass.readonly_property</span> <em></em></h4><p><blockquote>str:&nbsp;Properties&nbsp;should&nbsp;be&nbsp;documented&nbsp;in&nbsp;their&nbsp;getter&nbsp;method.</blockquote></p>\n",
       "</HTMLRemove>\n",
       "<DocSection type=\"property\" name=\"ExampleClass.readonly_property\" module=\"test_lib.example\" show_import=\"False\" heading_level=\"4\">\n",
       "\n",
       "<Description summary=\"str: Properties should be documented in their getter method.\" />\n",
       "</DocSection>"
      ],
      "text/plain": [
       "<__main__.ShowDoc at 0x111c0f280>"
      ]
     },
     "execution_count": 43,
     "metadata": {},
     "output_type": "execute_result"
    }
   ],
   "source": [
    "ShowDoc(ex.ExampleClass.readonly_property)"
   ]
  },
  {
   "cell_type": "code",
   "execution_count": 44,
   "id": "ee15d974-1c43-4028-9d52-df2ffafc3603",
   "metadata": {},
   "outputs": [],
   "source": [
    "#hide\n",
    "_res = ShowDoc(ex.ExampleClass.readwrite_property).jsx\n",
    "assert 'Properties with both a getter and setter\\\\nshould only be documented in their getter method' in _res\n",
    "assert '<Parameter type=\"int\" desc=\"Index of the task in a foreach step\" />' in _res"
   ]
  },
  {
   "cell_type": "markdown",
   "id": "153364b6-7432-46fd-b802-e48353a18271",
   "metadata": {},
   "source": [
    "Finally, we can also show docs for a function.  If the module associated with the object has a baseurl specified in your project's `settings.ini` file as described in `get_base_urls`, you will also see a link to the source code:"
   ]
  },
  {
   "cell_type": "code",
   "execution_count": 45,
   "id": "076e2880-b859-4e60-b3a7-a53643b4d382",
   "metadata": {},
   "outputs": [
    {
     "data": {
      "text/html": [
       "<HTMLRemove>\n",
       "<h3> <code>function</code> <span style=\"color:Brown\">test_eq</span> <em>(a, b)</em><a href=\"https://github.com/fastcore/tree/masterhttps://github.com/fastai/fastcore/tree/master/fastcore/test.py#L34\" style=\"float:right\">[source]</a></h3><p><blockquote>`test`&nbsp;that&nbsp;`a==b`</blockquote></p>\n",
       "</HTMLRemove>\n",
       "<DocSection type=\"function\" name=\"test_eq\" module=\"fastcore.test\" show_import=\"False\" heading_level=\"3\" link=\"https://github.com/fastcore/tree/masterhttps://github.com/fastai/fastcore/tree/master/fastcore/test.py#L34\">\n",
       "<SigArgSection>\n",
       "<SigArg name=\"a\" /><SigArg name=\"b\" />\n",
       "</SigArgSection>\n",
       "<Description summary=\"`test` that `a==b`\" />\n",
       "\n",
       "</DocSection>"
      ],
      "text/plain": [
       "<__main__.ShowDoc at 0x111c0ded0>"
      ]
     },
     "execution_count": 45,
     "metadata": {},
     "output_type": "execute_result"
    }
   ],
   "source": [
    "ShowDoc(test_eq)"
   ]
  },
  {
   "cell_type": "markdown",
   "id": "dfc4d7e8-05af-47a3-98ab-db5e7afb9682",
   "metadata": {},
   "source": [
    "As a debugging tool, `ShowDoc.jsx` extracts JSX Markup about an object so that you can use it for code documentation.  Here are some examples:"
   ]
  },
  {
   "cell_type": "code",
   "execution_count": 46,
   "id": "eb890428-874c-4566-934f-60094c456827",
   "metadata": {},
   "outputs": [],
   "source": [
    "#hide\n",
    "_result = ShowDoc(test_eq).jsx\n",
    "assert is_valid_xml(_result)\n",
    "assert 'link' in _result"
   ]
  },
  {
   "cell_type": "code",
   "execution_count": 47,
   "id": "8cda5649-605f-4f67-98ab-52476fe88113",
   "metadata": {},
   "outputs": [
    {
     "name": "stdout",
     "output_type": "stream",
     "text": [
      "<DocSection type=\"class\" name=\"ExampleClass\" module=\"test_lib.example\" show_import=\"False\" heading_level=\"3\">\n",
      "<SigArgSection>\n",
      "<SigArg name=\"param1\" /><SigArg name=\"param2\" /><SigArg name=\"param3\" />\n",
      "</SigArgSection>\n",
      "<Description summary=\"The summary line for a class docstring should fit on one line.\" extended_summary=\"If the class has public attributes, they may be documented here\\nin an ``Attributes`` section and follow the same formatting as a\\nfunction's ``Args`` section. Alternatively, attributes may be documented\\ninline with the attribute's declaration (see __init__ method below).\\n\\nProperties created with the ``@property`` decorator should be documented\\nin the property's getter method.\" />\n",
      "<ParamSection name=\"Attributes\">\n",
      "\t<Parameter name=\"attr1\" type=\"str\" desc=\"Description of `attr1`.\" />\n",
      "\t<Parameter name=\"attr2\" type=\":obj:`int`, optional\" desc=\"Description of `attr2`.\" />\n",
      "</ParamSection>\n",
      "</DocSection>\n"
     ]
    }
   ],
   "source": [
    "_result = ShowDoc(ex.ExampleClass).jsx\n",
    "assert is_valid_xml(_result)\n",
    "print(_result)"
   ]
  },
  {
   "cell_type": "code",
   "execution_count": 48,
   "id": "4b3acc2c-d7a5-4908-a9cb-0b796ec91206",
   "metadata": {},
   "outputs": [
    {
     "name": "stdout",
     "output_type": "stream",
     "text": [
      "<DocSection type=\"class\" name=\"Foo\" module=\"test_lib.example\" show_import=\"False\" heading_level=\"3\">\n",
      "<SigArgSection>\n",
      "<SigArg name=\"a\" type=\"int\" /><SigArg name=\"b\" type=\"str\" default=\"foo\" /><SigArg name=\"c\" type=\"float\" default=\"0.1\" /><SigArg name=\"*args\" /><SigArg name=\"**tags\" />\n",
      "</SigArgSection>\n",
      "\n",
      "\n",
      "</DocSection>\n"
     ]
    }
   ],
   "source": [
    "_result = ShowDoc(ex.Foo).jsx\n",
    "assert is_valid_xml(_result)\n",
    "assert 'link' not in _result\n",
    "print(_result)"
   ]
  },
  {
   "cell_type": "code",
   "execution_count": null,
   "id": "f055ce0f-c839-44d4-a772-e915353fbd76",
   "metadata": {},
   "outputs": [],
   "source": []
  }
 ],
 "metadata": {
  "kernelspec": {
   "display_name": "Python 3 (ipykernel)",
   "language": "python",
   "name": "python3"
  },
  "language_info": {
   "codemirror_mode": {
    "name": "ipython",
    "version": 3
   },
   "file_extension": ".py",
   "mimetype": "text/x-python",
   "name": "python",
   "nbconvert_exporter": "python",
   "pygments_lexer": "ipython3",
   "version": "3.10.5"
  }
 },
 "nbformat": 4,
 "nbformat_minor": 5
}
