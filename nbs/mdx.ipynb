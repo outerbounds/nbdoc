{
 "cells": [
  {
   "cell_type": "code",
   "execution_count": 1,
   "id": "79ed0425-068a-4e9e-8ccf-245039ae8698",
   "metadata": {},
   "outputs": [],
   "source": [
    "#default_exp mdx"
   ]
  },
  {
   "cell_type": "markdown",
   "id": "43d60ddb-f5b2-4421-85ab-44843b8f5b1e",
   "metadata": {},
   "source": [
    "# Preprocessors For MDX\n",
    "\n",
    "> Custom preprocessors that help convert notebook content into MDX\n",
    "\n",
    "This module defines [nbconvert.Custom Preprocessors](https://nbconvert.readthedocs.io/en/latest/nbconvert_library.html#Custom-Preprocessors) that facilitate transforming notebook content into MDX, which is a variation of markdown."
   ]
  },
  {
   "cell_type": "markdown",
   "id": "00c0c0b1-df9b-4b5a-9a31-f741a69f900e",
   "metadata": {},
   "source": [
    "## Cell Tag Cheatsheet\n",
    "\n",
    "These preprocessors allow you to make special comments to enable/disable them.  Here is a list of all special comments:\n",
    "\n",
    "All comments start with `#meta` or `#cell_meta`, which are both aliases for the same thing.  For brevity, we will use `#meta` in this cheatsheet.\n",
    "\n",
    "### Black code formatting\n",
    "\n",
    "`#meta:tag=black` will apply black code formatting.\n",
    "\n",
    "### Show/Hide Cells\n",
    "\n",
    "1. Remvoe entire cells:  `#meta:tag=remove_cell` or `#meta:tag=hide`\n",
    "2. Remove output: `#meta:tag=remove_output` or `#meta:tag=remove_output` or `#meta:tag=hide_outputs` or `#meta:tag=hide_output`\n",
    "3. Remove input: same as above, except `input` instead of `output`.\n",
    "\n",
    "### Hiding specific lines of outptut\n",
    "\n",
    "1. Remove lines of output containing keywords: `#meta:filter_words=FutureWarning,MultiIndex`\n",
    "2. Show maximum number of lines of output: `#meta:limit=6`, will show only the first 6 lines\n",
    "\n",
    "\n",
    "### Hiding specific lines of input (code):\n",
    "\n",
    "Use the comment `#meta_hide_line` to hide a specific line of code:\n",
    "\n",
    "```python\n",
    "def show():\n",
    "    a = 2\n",
    "    b = 3 #meta_hide_line\n",
    "```\n",
    "\n",
    "### Selecting Metaflow Steps\n",
    "\n",
    "You can selectively show meataflow steps in the output logs:\n",
    "\n",
    "1. Show one step: `#meta:show_steps=<step_name>`\n",
    "2. Show multiple steps: `#meta:show_steps=<step1_name>,<step2_name>`"
   ]
  },
  {
   "cell_type": "code",
   "execution_count": 2,
   "id": "d6e5cf23-d21b-4aef-9523-ce6b22d4a072",
   "metadata": {
    "tags": []
   },
   "outputs": [],
   "source": [
    "# export\n",
    "from nbconvert.preprocessors import Preprocessor\n",
    "from nbconvert import MarkdownExporter\n",
    "from nbconvert.preprocessors import TagRemovePreprocessor\n",
    "from nbdev.imports import get_config\n",
    "from traitlets.config import Config\n",
    "from pathlib import Path\n",
    "import re, uuid\n",
    "from fastcore.basics import AttrDict\n",
    "from nbdoc.media import ImagePath, ImageSave, HTMLEscape\n",
    "from black import format_str, Mode"
   ]
  },
  {
   "cell_type": "code",
   "execution_count": 3,
   "id": "1489a563-0225-47aa-a2db-b6e85ee93476",
   "metadata": {},
   "outputs": [],
   "source": [
    "#hide\n",
    "from nbdev.export import read_nb\n",
    "from nbconvert import NotebookExporter\n",
    "from nbdoc.test_utils import run_preprocessor, show_plain_md\n",
    "from nbdoc.run import _gen_nb\n",
    "import json\n",
    "\n",
    "__file__ = str(get_config().path(\"lib_path\")/'preproc.py')"
   ]
  },
  {
   "cell_type": "code",
   "execution_count": 4,
   "id": "f8363c82-2730-4b7d-9a32-de66ec524b87",
   "metadata": {},
   "outputs": [],
   "source": [
    "#export\n",
    "_re_meta= r'^\\s*#(?:cell_meta|meta):\\S+\\s*[\\n\\r]'"
   ]
  },
  {
   "cell_type": "markdown",
   "id": "94fe7e9d-76f1-4023-b038-a001e77bfa2c",
   "metadata": {},
   "source": [
    "## Injecting Metadata Into Cells -"
   ]
  },
  {
   "cell_type": "code",
   "execution_count": 5,
   "id": "d1e243fc-e236-4f0e-98ba-9ee41406446f",
   "metadata": {},
   "outputs": [],
   "source": [
    "#export\n",
    "class InjectMeta(Preprocessor):\n",
    "    \"\"\"\n",
    "    Allows you to inject metadata into a cell for further preprocessing with a comment.\n",
    "    \"\"\"\n",
    "    pattern = r'(^\\s*#(?:cell_meta|meta):)(\\S+)(\\s*[\\n\\r])'\n",
    "    \n",
    "    def preprocess_cell(self, cell, resources, index):\n",
    "        if cell.cell_type == 'code' and re.search(_re_meta, cell.source, flags=re.MULTILINE):\n",
    "            cell_meta = re.findall(self.pattern, cell.source, re.MULTILINE)\n",
    "            d = cell.metadata.get('nbdoc', {})\n",
    "            for _, m, _ in cell_meta:\n",
    "                if '=' in m:\n",
    "                    k,v = m.split('=')\n",
    "                    d[k] = v\n",
    "                else: print(f\"Warning cell_meta:{m} does not have '=' will be ignored.\")\n",
    "            cell.metadata['nbdoc'] = d\n",
    "        return cell, resources"
   ]
  },
  {
   "cell_type": "markdown",
   "id": "109942b9-6af1-4bee-b1fe-e5677857d151",
   "metadata": {},
   "source": [
    "To inject metadata make a comment in a cell with the following pattern: `#cell_meta:{key=value}`. Note that `#meta` is an alias for `#cell_meta`\n",
    "\n",
    "For example, consider the following code:"
   ]
  },
  {
   "cell_type": "code",
   "execution_count": 6,
   "id": "90d60081-e886-467a-9f53-b64a1f3bd4d7",
   "metadata": {},
   "outputs": [
    {
     "name": "stdout",
     "output_type": "stream",
     "text": [
      "#meta:show_steps=start,train\n",
      "print('hello world')\n"
     ]
    }
   ],
   "source": [
    "\n",
    "_test_file = 'test_files/hello_world.ipynb'\n",
    "first_cell = read_nb(_test_file)['cells'][0]\n",
    "print(first_cell['source'])"
   ]
  },
  {
   "cell_type": "markdown",
   "id": "fc8b719e-3fed-4cef-9b11-49b684f38185",
   "metadata": {},
   "source": [
    "At the moment, this cell has no metadata:"
   ]
  },
  {
   "cell_type": "code",
   "execution_count": 7,
   "id": "9ed0b000-ce00-470d-be1b-286fd9aeddd8",
   "metadata": {},
   "outputs": [
    {
     "name": "stdout",
     "output_type": "stream",
     "text": [
      "{}\n"
     ]
    }
   ],
   "source": [
    "print(first_cell['metadata'])"
   ]
  },
  {
   "cell_type": "markdown",
   "id": "d739a476-b659-4e4b-93db-c3df2fc11b33",
   "metadata": {},
   "source": [
    "However, after we process this notebook with `InjectMeta`, the appropriate metadata will be injected:"
   ]
  },
  {
   "cell_type": "code",
   "execution_count": 8,
   "id": "0705cfea-6abb-4bfe-8225-e04c32c6eb75",
   "metadata": {},
   "outputs": [
    {
     "data": {
      "text/plain": [
       "{'nbdoc': {'show_steps': 'start,train'}}"
      ]
     },
     "execution_count": 8,
     "metadata": {},
     "output_type": "execute_result"
    }
   ],
   "source": [
    "c = Config()\n",
    "c.NotebookExporter.preprocessors = [InjectMeta]\n",
    "exp = NotebookExporter(config=c)\n",
    "cells, _ = exp.from_filename(_test_file)\n",
    "first_cell = json.loads(cells)['cells'][0]\n",
    "\n",
    "assert first_cell['metadata'] == {'nbdoc': {'show_steps': 'start,train'}}\n",
    "first_cell['metadata']"
   ]
  },
  {
   "cell_type": "markdown",
   "id": "7011576a-978f-4851-88d3-6cbbc23fbf07",
   "metadata": {},
   "source": [
    "## Strip Ansi Characters From Output -"
   ]
  },
  {
   "cell_type": "code",
   "execution_count": 9,
   "id": "84073fa6-5907-41f2-b8b8-568a96112fbd",
   "metadata": {},
   "outputs": [],
   "source": [
    "#export\n",
    "_re_ansi_escape = re.compile(r'\\x1B(?:[@-Z\\\\-_]|\\[[0-?]*[ -/]*[@-~])')\n",
    "\n",
    "class StripAnsi(Preprocessor):\n",
    "    \"\"\"Strip Ansi Characters.\"\"\"\n",
    "    \n",
    "    def preprocess_cell(self, cell, resources, index):\n",
    "        for o in cell.get('outputs', []):\n",
    "            if o.get('name') and o.name == 'stdout': \n",
    "                o['text'] = _re_ansi_escape.sub('', o.text)\n",
    "        return cell, resources"
   ]
  },
  {
   "cell_type": "markdown",
   "id": "463b9def-91ad-4b05-92c3-e074954e4faf",
   "metadata": {},
   "source": [
    "Gets rid of colors that are streamed from standard out, which can interfere with static site generators:"
   ]
  },
  {
   "cell_type": "code",
   "execution_count": 10,
   "id": "c54afbf8-a50b-4a97-a7f5-1a78cba6da13",
   "metadata": {},
   "outputs": [],
   "source": [
    "c, _ = run_preprocessor([StripAnsi], 'test_files/run_flow.ipynb')\n",
    "assert not _re_ansi_escape.findall(c)"
   ]
  },
  {
   "cell_type": "code",
   "execution_count": 11,
   "id": "7156cacc-eaa0-4b4c-a342-8bc81db82823",
   "metadata": {},
   "outputs": [],
   "source": [
    "# export\n",
    "def _get_cell_id(id_length=36):\n",
    "    \"generate random id for artifical notebook cell\"\n",
    "    return uuid.uuid4().hex[:id_length]\n",
    "\n",
    "def _get_md_cell(content=\"<!-- WARNING: THIS FILE WAS AUTOGENERATED! DO NOT EDIT! Instead, edit the notebook w/the location & name as this file. -->\"):\n",
    "    \"generate markdown cell with content\"\n",
    "    cell = AttrDict({'cell_type': 'markdown',\n",
    "                     'id': f'{_get_cell_id()}',\n",
    "                     'metadata': {},\n",
    "                     'source': f'{content}'})\n",
    "    return cell"
   ]
  },
  {
   "cell_type": "markdown",
   "id": "ece9c1a2-b339-4857-8e5a-a3a06577ad4a",
   "metadata": {},
   "source": [
    "## Insert Warning Into Markdown -"
   ]
  },
  {
   "cell_type": "code",
   "execution_count": 12,
   "id": "4aefc105-9ff6-4f0d-8636-83c6acf79f02",
   "metadata": {},
   "outputs": [],
   "source": [
    "# export\n",
    "class InsertWarning(Preprocessor):\n",
    "    \"\"\"Insert Autogenerated Warning Into Notebook after the first cell.\"\"\"\n",
    "    def preprocess(self, nb, resources):\n",
    "        nb.cells = nb.cells[:1] + [_get_md_cell()] + nb.cells[1:]\n",
    "        return nb, resources"
   ]
  },
  {
   "cell_type": "markdown",
   "id": "cad52f89-3710-4361-9759-8d5129cdc63d",
   "metadata": {},
   "source": [
    "This preprocessor inserts a warning in the markdown destination that the file is autogenerated.  This warning is inserted in the second cell so we do not interfere with front matter."
   ]
  },
  {
   "cell_type": "code",
   "execution_count": 13,
   "id": "ccac0945-6725-49e6-94e4-72684bf08417",
   "metadata": {},
   "outputs": [
    {
     "name": "stdout",
     "output_type": "stream",
     "text": [
      "```python\n",
      "#meta:show_steps=start,train\n",
      "print('hello world')\n",
      "```\n",
      "\n",
      "<CodeOutputBlock lang=\"python\">\n",
      "\n",
      "```\n",
      "    hello world\n",
      "```\n",
      "\n",
      "</CodeOutputBlock>\n",
      "\n",
      "<!-- WARNING: THIS FILE WAS AUTOGENERATED! DO NOT EDIT! Instead, edit the notebook w/the location & name as this file. -->\n",
      "\n",
      "\n",
      "```python\n",
      "\n",
      "```\n",
      "\n"
     ]
    }
   ],
   "source": [
    "c, _ = run_preprocessor([InsertWarning], 'test_files/hello_world.ipynb', display_results=True)\n",
    "assert \"<!-- WARNING: THIS FILE WAS AUTOGENERATED!\" in c"
   ]
  },
  {
   "cell_type": "markdown",
   "id": "4d9ac4d3-f82d-4325-94d3-04ede6c351c1",
   "metadata": {},
   "source": [
    "## Remove Empty Code Cells -"
   ]
  },
  {
   "cell_type": "code",
   "execution_count": 14,
   "id": "69dea46a-671c-4f87-aaa5-e45a6f3baeb8",
   "metadata": {},
   "outputs": [],
   "source": [
    "# export\n",
    "def _emptyCodeCell(cell):\n",
    "    \"Return True if cell is an empty Code Cell.\"\n",
    "    if cell['cell_type'] == 'code':\n",
    "        if not cell.source or not cell.source.strip(): return True\n",
    "    else: return False\n",
    "\n",
    "\n",
    "class RmEmptyCode(Preprocessor):\n",
    "    \"\"\"Remove empty code cells.\"\"\"\n",
    "    def preprocess(self, nb, resources):\n",
    "        new_cells = [c for c in nb.cells if not _emptyCodeCell(c)]\n",
    "        nb.cells = new_cells\n",
    "        return nb, resources"
   ]
  },
  {
   "cell_type": "markdown",
   "id": "8ac17fdb-ab24-4a83-bff2-141c5dc4ac48",
   "metadata": {},
   "source": [
    "Notice how this notebook has an empty code cell at the end:"
   ]
  },
  {
   "cell_type": "code",
   "execution_count": 15,
   "id": "bb5c90c4-961c-4d7b-9663-951d59644959",
   "metadata": {},
   "outputs": [
    {
     "name": "stdout",
     "output_type": "stream",
     "text": [
      "```python\n",
      "#meta:show_steps=start,train\n",
      "print('hello world')\n",
      "```\n",
      "\n",
      "    hello world\n",
      "\n",
      "\n",
      "\n",
      "```python\n",
      "\n",
      "```\n",
      "\n"
     ]
    }
   ],
   "source": [
    "show_plain_md('test_files/hello_world.ipynb')"
   ]
  },
  {
   "cell_type": "markdown",
   "id": "92971c72-371e-48ec-a2be-ce86f5db3c24",
   "metadata": {},
   "source": [
    "With `RmEmptyCode` these empty code cells are stripped from the markdown:"
   ]
  },
  {
   "cell_type": "code",
   "execution_count": 16,
   "id": "b2e508d6-226c-40cf-99ff-a38d68770daa",
   "metadata": {},
   "outputs": [
    {
     "name": "stdout",
     "output_type": "stream",
     "text": [
      "```python\n",
      "#meta:show_steps=start,train\n",
      "print('hello world')\n",
      "```\n",
      "\n",
      "<CodeOutputBlock lang=\"python\">\n",
      "\n",
      "```\n",
      "    hello world\n",
      "```\n",
      "\n",
      "</CodeOutputBlock>\n",
      "\n"
     ]
    }
   ],
   "source": [
    "c, _ = run_preprocessor([RmEmptyCode], 'test_files/hello_world.ipynb', display_results=True)\n",
    "assert len(re.findall('```python',c)) == 1"
   ]
  },
  {
   "cell_type": "markdown",
   "id": "5678d0ae-9f90-4b15-9000-a0ae362eac9f",
   "metadata": {},
   "source": [
    "## Truncate Metaflow Output -"
   ]
  },
  {
   "cell_type": "code",
   "execution_count": 17,
   "id": "49e88052-a655-4fc4-9a8d-8133bb9712d5",
   "metadata": {},
   "outputs": [],
   "source": [
    "#export\n",
    "class MetaflowTruncate(Preprocessor):\n",
    "    \"\"\"Remove the preamble and timestamp from Metaflow output.\"\"\"\n",
    "    _re_pre = re.compile(r'([\\s\\S]*Metaflow[\\s\\S]*Validating[\\s\\S]+The graph[\\s\\S]+)(\\n[\\s\\S]+Workflow starting[\\s\\S]+)')\n",
    "    _re_time = re.compile('\\d{4}-\\d{2}-\\d{2}\\s\\d{2}\\:\\d{2}\\:\\d{2}.\\d{3}')\n",
    "    \n",
    "    def preprocess_cell(self, cell, resources, index):\n",
    "        if re.search('\\s*python.+run.*', cell.source) and 'outputs' in cell:\n",
    "            for o in cell.outputs:\n",
    "                if o.name == 'stdout':\n",
    "                    o['text'] = self._re_time.sub('', self._re_pre.sub(r'\\2', o.text)).strip()\n",
    "        return cell, resources"
   ]
  },
  {
   "cell_type": "markdown",
   "id": "0305ba43-5b37-44c9-a1f1-f9701599b127",
   "metadata": {},
   "source": [
    "When you run a metaflow Flow, you are presented with a fair amount of boilerpalte before the job starts running that is not necesary to show in the documentation:"
   ]
  },
  {
   "cell_type": "code",
   "execution_count": 18,
   "id": "94459a98-cd0c-417e-bf68-452aee6c7f3d",
   "metadata": {},
   "outputs": [
    {
     "name": "stdout",
     "output_type": "stream",
     "text": [
      "```python\n",
      "#meta:show_steps=start\n",
      "!python myflow.py run\n",
      "```\n",
      "\n",
      "    \u001b[35m\u001b[1mMetaflow 2.5.3\u001b[0m\u001b[35m\u001b[22m executing \u001b[0m\u001b[31m\u001b[1mMyFlow\u001b[0m\u001b[35m\u001b[22m\u001b[0m\u001b[35m\u001b[22m for \u001b[0m\u001b[31m\u001b[1muser:hamel\u001b[0m\u001b[35m\u001b[22m\u001b[K\u001b[0m\u001b[35m\u001b[22m\u001b[0m\n",
      "    \u001b[35m\u001b[22mValidating your flow...\u001b[K\u001b[0m\u001b[35m\u001b[22m\u001b[0m\n",
      "    \u001b[32m\u001b[1m    The graph looks good!\u001b[K\u001b[0m\u001b[32m\u001b[1m\u001b[0m\n",
      "    \u001b[35m\u001b[22mRunning pylint...\u001b[K\u001b[0m\u001b[35m\u001b[22m\u001b[0m\n",
      "    \u001b[32m\u001b[1m    Pylint is happy!\u001b[K\u001b[0m\u001b[32m\u001b[1m\u001b[0m\n",
      "    \u001b[35m2022-03-14 17:28:44.983 \u001b[0m\u001b[1mWorkflow starting (run-id 1647304124981100):\u001b[0m\n",
      "    \u001b[35m2022-03-14 17:28:44.990 \u001b[0m\u001b[32m[1647304124981100/start/1 (pid 41951)] \u001b[0m\u001b[1mTask is starting.\u001b[0m\n",
      "    \u001b[35m2022-03-14 17:28:45.630 \u001b[0m\u001b[32m[1647304124981100/start/1 (pid 41951)] \u001b[0m\u001b[22mthis is the start\u001b[0m\n",
      "    \u001b[35m2022-03-14 17:28:45.704 \u001b[0m\u001b[32m[1647304124981100/start/1 (pid 41951)] \u001b[0m\u001b[1mTask finished successfully.\u001b[0m\n",
      "    \u001b[35m2022-03-14 17:28:45.710 \u001b[0m\u001b[32m[1647304124981100/end/2 (pid 41954)] \u001b[0m\u001b[1mTask is starting.\u001b[0m\n",
      "    \u001b[35m2022-03-14 17:28:46.348 \u001b[0m\u001b[32m[1647304124981100/end/2 (pid 41954)] \u001b[0m\u001b[22mthis is the end\u001b[0m\n",
      "    \u001b[35m2022-03-14 17:28:46.422 \u001b[0m\u001b[32m[1647304124981100/end/2 (pid 41954)] \u001b[0m\u001b[1mTask finished successfully.\u001b[0m\n",
      "    \u001b[35m2022-03-14 17:28:46.423 \u001b[0m\u001b[1mDone!\u001b[0m\n",
      "    \u001b[0m\n",
      "\n"
     ]
    }
   ],
   "source": [
    "show_plain_md('test_files/run_flow.ipynb')"
   ]
  },
  {
   "cell_type": "markdown",
   "id": "f72a1f48-0894-414e-9b4d-54c76715407c",
   "metadata": {},
   "source": [
    "We don't need to see the beginning part that validates the graph, and we don't need the time-stamps either.  We can remove these with the `MetaflowTruncate` preprocessor:"
   ]
  },
  {
   "cell_type": "code",
   "execution_count": 19,
   "id": "cee52196-4732-4365-9d20-7576203e559c",
   "metadata": {},
   "outputs": [
    {
     "name": "stdout",
     "output_type": "stream",
     "text": [
      "```python\n",
      "#meta:show_steps=start\n",
      "!python myflow.py run\n",
      "```\n",
      "\n",
      "<CodeOutputBlock lang=\"python\">\n",
      "\n",
      "```\n",
      "    \u001b[35m \u001b[0m\u001b[1mWorkflow starting (run-id 1647304124981100):\u001b[0m\n",
      "    \u001b[35m \u001b[0m\u001b[32m[1647304124981100/start/1 (pid 41951)] \u001b[0m\u001b[1mTask is starting.\u001b[0m\n",
      "    \u001b[35m \u001b[0m\u001b[32m[1647304124981100/start/1 (pid 41951)] \u001b[0m\u001b[22mthis is the start\u001b[0m\n",
      "    \u001b[35m \u001b[0m\u001b[32m[1647304124981100/start/1 (pid 41951)] \u001b[0m\u001b[1mTask finished successfully.\u001b[0m\n",
      "    \u001b[35m \u001b[0m\u001b[32m[1647304124981100/end/2 (pid 41954)] \u001b[0m\u001b[1mTask is starting.\u001b[0m\n",
      "    \u001b[35m \u001b[0m\u001b[32m[1647304124981100/end/2 (pid 41954)] \u001b[0m\u001b[22mthis is the end\u001b[0m\n",
      "    \u001b[35m \u001b[0m\u001b[32m[1647304124981100/end/2 (pid 41954)] \u001b[0m\u001b[1mTask finished successfully.\u001b[0m\n",
      "    \u001b[35m \u001b[0m\u001b[1mDone!\u001b[0m\n",
      "    \u001b[0m\n",
      "```\n",
      "\n",
      "</CodeOutputBlock>\n",
      "\n"
     ]
    }
   ],
   "source": [
    "c, _ = run_preprocessor([MetaflowTruncate], 'test_files/run_flow.ipynb', display_results=True)\n",
    "assert 'Validating your flow...' not in c"
   ]
  },
  {
   "cell_type": "markdown",
   "id": "269d2ec4-c25a-4144-857c-f59304702a08",
   "metadata": {},
   "source": [
    "## Turn Metadata into Cell Tags -"
   ]
  },
  {
   "cell_type": "code",
   "execution_count": 20,
   "id": "09db6f97-cd1f-429c-9366-c685779f0a45",
   "metadata": {
    "tags": [
     "foo"
    ]
   },
   "outputs": [],
   "source": [
    "#export\n",
    "class UpdateTags(Preprocessor):\n",
    "    \"\"\"\n",
    "    Create cell tags based upon comment `#cell_meta:tags=<tag>`\n",
    "    \"\"\"\n",
    "    \n",
    "    def preprocess_cell(self, cell, resources, index):\n",
    "        root = cell.metadata.get('nbdoc', {})\n",
    "        tags = root.get('tags', root.get('tag')) # allow the singular also\n",
    "        if tags: cell.metadata['tags'] = cell.metadata.get('tags', []) + tags.split(',')\n",
    "        return cell, resources"
   ]
  },
  {
   "cell_type": "markdown",
   "id": "5bcf255b-719c-468a-8875-9cf8475bef1c",
   "metadata": {},
   "source": [
    "Consider this python notebook prior to processing.  The comments can be used configure the visibility of cells. \n",
    "\n",
    "- `#cell_meta:tags=remove_output` will just remove the output\n",
    "- `#cell_meta:tags=remove_input` will just remove the input\n",
    "- `#cell_meta:tags=remove_cell` will remove both the input and output\n",
    "\n",
    "Note that you can use `#cell_meta:tag` or `#cell_meta:tags` as they are both aliases for the same thing.  Here is a notebook before preprocessing:"
   ]
  },
  {
   "cell_type": "code",
   "execution_count": 21,
   "id": "b89c199a-3d2c-4e9f-b53e-968464498d4c",
   "metadata": {},
   "outputs": [
    {
     "name": "stdout",
     "output_type": "stream",
     "text": [
      "# Configuring Cell Visibility\n",
      "\n",
      "#### Cell with the comment `#cell_meta:tag=remove_output`\n",
      "\n",
      "\n",
      "```\n",
      "#cell_meta:tag=remove_output\n",
      "print('the output is removed, so you can only see the print statement.')\n",
      "```\n",
      "\n",
      "    the output is removed, so you can only see the print statement.\n",
      "\n",
      "\n",
      "#### Cell with the comment `#cell_meta:tag=remove_input`\n",
      "\n",
      "\n",
      "```\n",
      "#cell_meta:tag=remove_input\n",
      "print('hello, you cannot see the code that created me.')\n",
      "```\n",
      "\n",
      "    hello, you cannot see the code that created me.\n",
      "\n",
      "\n",
      "#### Cell with the comment `#cell_meta:tag=remove_cell`\n",
      "\n",
      "\n",
      "```\n",
      "#cell_meta:tag=remove_cell\n",
      "print('you will not be able to see this cell at all')\n",
      "```\n",
      "\n",
      "    you will not be able to see this cell at all\n",
      "\n",
      "\n",
      "\n",
      "```\n",
      "#cell_meta:tags=remove_input,remove_output\n",
      "print('you will not be able to see this cell at all either')\n",
      "```\n",
      "\n",
      "    you will not be able to see this cell at all either\n",
      "\n",
      "\n"
     ]
    }
   ],
   "source": [
    "show_plain_md('test_files/visibility.ipynb')"
   ]
  },
  {
   "cell_type": "markdown",
   "id": "e7dc5382-c0c9-4f9e-ac5a-0ad1f3aec1f5",
   "metadata": {},
   "source": [
    "`UpdateTags` is meant to be used with `InjectMeta` and `TagRemovePreprocessor` to configure the visibility of cells in rendered docs.  Here you can see what the notebook looks like after pre-processing:"
   ]
  },
  {
   "cell_type": "code",
   "execution_count": 22,
   "id": "22d2adae-3c45-4044-ab10-b183618ac2c7",
   "metadata": {},
   "outputs": [
    {
     "name": "stdout",
     "output_type": "stream",
     "text": [
      "# Configuring Cell Visibility\n",
      "\n",
      "#### Cell with the comment `#cell_meta:tag=remove_output`\n",
      "\n",
      "\n",
      "```\n",
      "#cell_meta:tag=remove_output\n",
      "print('the output is removed, so you can only see the print statement.')\n",
      "```\n",
      "\n",
      "#### Cell with the comment `#cell_meta:tag=remove_input`\n",
      "\n",
      "    hello, you cannot see the code that created me.\n",
      "\n",
      "\n",
      "#### Cell with the comment `#cell_meta:tag=remove_cell`\n",
      "\n"
     ]
    }
   ],
   "source": [
    "# Configure an exporter from scratch\n",
    "_test_file = 'test_files/visibility.ipynb'\n",
    "c = Config()\n",
    "c.TagRemovePreprocessor.remove_cell_tags = (\"remove_cell\",)\n",
    "c.TagRemovePreprocessor.remove_all_outputs_tags = ('remove_output',)\n",
    "c.TagRemovePreprocessor.remove_input_tags = ('remove_input',)\n",
    "c.MarkdownExporter.preprocessors = [InjectMeta, UpdateTags, TagRemovePreprocessor]\n",
    "exp = MarkdownExporter(config=c)\n",
    "result = exp.from_filename(_test_file)[0]\n",
    "\n",
    "# show the results\n",
    "assert 'you will not be able to see this cell at all either' not in result\n",
    "print(result)"
   ]
  },
  {
   "cell_type": "markdown",
   "id": "42da6541-e9a6-4378-9414-aba0da0566b0",
   "metadata": {},
   "source": [
    "## Selecting Metaflow Steps In Output -"
   ]
  },
  {
   "cell_type": "code",
   "execution_count": 23,
   "id": "07e91ad8-519f-456d-8aa6-5b5266964816",
   "metadata": {},
   "outputs": [],
   "source": [
    "#export\n",
    "class MetaflowSelectSteps(Preprocessor):\n",
    "    \"\"\"\n",
    "    Hide Metaflow steps in output based on cell metadata.\n",
    "    \"\"\"\n",
    "    re_step = r'.*\\d+/{0}/\\d+\\s\\(pid\\s\\d+\\).*'\n",
    "    \n",
    "    def preprocess_cell(self, cell, resources, index):\n",
    "        root = cell.metadata.get('nbdoc', {})\n",
    "        steps = root.get('show_steps', root.get('show_step'))\n",
    "        if re.search('\\s*python.+run.*', cell.source) and 'outputs' in cell and steps:\n",
    "            for o in cell.outputs:\n",
    "                if o.name == 'stdout':\n",
    "                    final_steps = []\n",
    "                    for s in steps.split(','):\n",
    "                        found_steps = re.compile(self.re_step.format(s)).findall(o['text'])\n",
    "                        if found_steps: \n",
    "                            final_steps += found_steps + ['...']\n",
    "                    o['text'] = '\\n'.join(['...'] + final_steps)\n",
    "        return cell, resources"
   ]
  },
  {
   "cell_type": "markdown",
   "id": "a6d70848-1bd7-4989-b8d7-037260194e76",
   "metadata": {},
   "source": [
    "`MetaflowSelectSteps` is meant to be used with `InjectMeta` to only show specific steps in the output logs from Metaflow.  \n",
    "\n",
    "For example, if you want to only show the `start` and `train` steps in your flow, you would annotate your cell with the following pattern: `#cell_meta:show_steps=<step_name>`\n",
    "\n",
    "Note that `show_step` and `show_steps` are aliases for convenience, so you don't need to worry about the `s` at the end.\n",
    "\n",
    "In the below example, `#cell_meta:show_steps=start,train` shows the `start` and `train` steps, whereas `#cell_meta:show_steps=train` only shows the `train` step:"
   ]
  },
  {
   "cell_type": "code",
   "execution_count": 24,
   "id": "89a2a6fb-371b-4a22-a0a5-6223ed7d84d4",
   "metadata": {},
   "outputs": [
    {
     "name": "stdout",
     "output_type": "stream",
     "text": [
      "```\n",
      "#cell_meta:show_steps=start,train\n",
      "!python myflow.py run\n",
      "```\n",
      "\n",
      "<CodeOutputBlock lang=\"\">\n",
      "\n",
      "```\n",
      "    ...\n",
      "    \u001b[35m2022-02-15 14:01:14.810 \u001b[0m\u001b[32m[1644962474801237/start/1 (pid 46758)] \u001b[0m\u001b[1mTask is starting.\u001b[0m\n",
      "    \u001b[35m2022-02-15 14:01:15.433 \u001b[0m\u001b[32m[1644962474801237/start/1 (pid 46758)] \u001b[0m\u001b[22mthis is the start\u001b[0m\n",
      "    \u001b[35m2022-02-15 14:01:15.500 \u001b[0m\u001b[32m[1644962474801237/start/1 (pid 46758)] \u001b[0m\u001b[1mTask finished successfully.\u001b[0m\n",
      "    ...\n",
      "    \u001b[35m2022-02-15 14:01:15.507 \u001b[0m\u001b[32m[1644962474801237/train/2 (pid 46763)] \u001b[0m\u001b[1mTask is starting.\u001b[0m\n",
      "    \u001b[35m2022-02-15 14:01:16.123 \u001b[0m\u001b[32m[1644962474801237/train/2 (pid 46763)] \u001b[0m\u001b[22mthe train step\u001b[0m\n",
      "    \u001b[35m2022-02-15 14:01:16.188 \u001b[0m\u001b[32m[1644962474801237/train/2 (pid 46763)] \u001b[0m\u001b[1mTask finished successfully.\u001b[0m\n",
      "    ...\n",
      "```\n",
      "\n",
      "</CodeOutputBlock>\n",
      "\n",
      "\n",
      "```\n",
      "#cell_meta:show_steps=train\n",
      "!python myflow.py run\n",
      "```\n",
      "\n",
      "<CodeOutputBlock lang=\"\">\n",
      "\n",
      "```\n",
      "    ...\n",
      "    \u001b[35m2022-02-15 14:01:18.924 \u001b[0m\u001b[32m[1644962478210532/train/2 (pid 46783)] \u001b[0m\u001b[1mTask is starting.\u001b[0m\n",
      "    \u001b[35m2022-02-15 14:01:19.566 \u001b[0m\u001b[32m[1644962478210532/train/2 (pid 46783)] \u001b[0m\u001b[22mthe train step\u001b[0m\n",
      "    \u001b[35m2022-02-15 14:01:19.632 \u001b[0m\u001b[32m[1644962478210532/train/2 (pid 46783)] \u001b[0m\u001b[1mTask finished successfully.\u001b[0m\n",
      "    ...\n",
      "```\n",
      "\n",
      "</CodeOutputBlock>\n",
      "\n"
     ]
    }
   ],
   "source": [
    "c, _ = run_preprocessor([InjectMeta, MetaflowSelectSteps], \n",
    "                        'test_files/run_flow_showstep.ipynb', \n",
    "                        display_results=True)\n",
    "assert 'end' not in c"
   ]
  },
  {
   "cell_type": "markdown",
   "id": "bd117989-651a-4a67-813b-819b0514bd0b",
   "metadata": {},
   "source": [
    "## Hide Specific Lines of Output With Keywords -"
   ]
  },
  {
   "cell_type": "code",
   "execution_count": 25,
   "id": "cbe495e3-89a8-4b74-983d-4a2bbc5140af",
   "metadata": {},
   "outputs": [],
   "source": [
    "#export\n",
    "class FilterOutput(Preprocessor):\n",
    "    \"\"\"\n",
    "    Hide Output Based on Keywords.\n",
    "    \"\"\"\n",
    "    def preprocess_cell(self, cell, resources, index):\n",
    "        root = cell.metadata.get('nbdoc', {})\n",
    "        words = root.get('filter_words', root.get('filter_word'))\n",
    "        if 'outputs' in cell and words:\n",
    "            _re = f\"^(?!.*({'|'.join(words.split(','))}))\"\n",
    "            for o in cell.outputs:\n",
    "                if o.name == 'stdout':\n",
    "                    filtered_lines = [l for l in o['text'].splitlines() if re.findall(_re, l)]\n",
    "                    o['text'] = '\\n'.join(filtered_lines)\n",
    "        return cell, resources"
   ]
  },
  {
   "cell_type": "markdown",
   "id": "0530ec07-0620-4a48-a241-157e8f0ba4d1",
   "metadata": {},
   "source": [
    "If we want to exclude output with certain keywords, we can use the `#meta:filter_words` comment.  For example, if we wanted to ignore all output that contains the text `FutureWarning` or `MultiIndex` we can use the comment:\n",
    "\n",
    "`#meta:filter_words=FutureWarning,MultiIndex`\n",
    "\n",
    "Consider this output below:"
   ]
  },
  {
   "cell_type": "code",
   "execution_count": 26,
   "id": "a47827d9-0b2a-4516-bc63-9a941dde1dee",
   "metadata": {},
   "outputs": [
    {
     "name": "stdout",
     "output_type": "stream",
     "text": [
      "```python\n",
      "#meta:filter_words=FutureWarning,MultiIndex\n",
      "#meta:show_steps=end\n",
      "!python serialize_xgb_dmatrix.py run\n",
      "```\n",
      "\n",
      "    /Users/hamel/opt/anaconda3/lib/python3.9/site-packages/xgboost/compat.py:36: FutureWarning: pandas.Int64Index is deprecated and will be removed from pandas in a future version. Use pandas.Index with the appropriate dtype instead.\n",
      "      from pandas import MultiIndex, Int64Index\n",
      "    \u001b[35m\u001b[1mMetaflow 2.5.3\u001b[0m\u001b[35m\u001b[22m executing \u001b[0m\u001b[31m\u001b[1mSerializeXGBDataFlow\u001b[0m\u001b[35m\u001b[22m\u001b[0m\u001b[35m\u001b[22m for \u001b[0m\u001b[31m\u001b[1muser:hamel\u001b[0m\u001b[35m\u001b[22m\u001b[K\u001b[0m\u001b[35m\u001b[22m\u001b[0m\n",
      "    \u001b[35m\u001b[22mValidating your flow...\u001b[K\u001b[0m\u001b[35m\u001b[22m\u001b[0m\n",
      "    \u001b[32m\u001b[1m    The graph looks good!\u001b[K\u001b[0m\u001b[32m\u001b[1m\u001b[0m\n",
      "    \u001b[35m\u001b[22mRunning pylint...\u001b[K\u001b[0m\u001b[35m\u001b[22m\u001b[0m\n",
      "    \u001b[32m\u001b[1m    Pylint is happy!\u001b[K\u001b[0m\u001b[32m\u001b[1m\u001b[0m\n",
      "    \u001b[35m2022-03-30 07:04:02.315 \u001b[0m\u001b[1mWorkflow starting (run-id 1648649042312116):\u001b[0m\n",
      "    \u001b[35m2022-03-30 07:04:02.322 \u001b[0m\u001b[32m[1648649042312116/start/1 (pid 2459)] \u001b[0m\u001b[1mTask is starting.\u001b[0m\n",
      "    \u001b[35m2022-03-30 07:04:03.122 \u001b[0m\u001b[32m[1648649042312116/start/1 (pid 2459)] \u001b[0m\u001b[22m/Users/hamel/opt/anaconda3/lib/python3.9/site-packages/xgboost/compat.py:36: FutureWarning: pandas.Int64Index is deprecated and will be removed from pandas in a future version. Use pandas.Index with the appropriate dtype instead.\u001b[0m\n",
      "    \u001b[35m2022-03-30 07:04:03.508 \u001b[0m\u001b[32m[1648649042312116/start/1 (pid 2459)] \u001b[0m\u001b[22mfrom pandas import MultiIndex, Int64Index\u001b[0m\n",
      "    \u001b[35m2022-03-30 07:04:03.510 \u001b[0m\u001b[32m[1648649042312116/start/1 (pid 2459)] \u001b[0m\u001b[1mTask finished successfully.\u001b[0m\n",
      "    \u001b[35m2022-03-30 07:04:03.517 \u001b[0m\u001b[32m[1648649042312116/end/2 (pid 2462)] \u001b[0m\u001b[1mTask is starting.\u001b[0m\n",
      "    \u001b[35m2022-03-30 07:04:04.315 \u001b[0m\u001b[32m[1648649042312116/end/2 (pid 2462)] \u001b[0m\u001b[22m/Users/hamel/opt/anaconda3/lib/python3.9/site-packages/xgboost/compat.py:36: FutureWarning: pandas.Int64Index is deprecated and will be removed from pandas in a future version. Use pandas.Index with the appropriate dtype instead.\u001b[0m\n",
      "    \u001b[35m2022-03-30 07:04:04.563 \u001b[0m\u001b[32m[1648649042312116/end/2 (pid 2462)] \u001b[0m\u001b[22mthere are 5 rows in the data.\u001b[0m\n",
      "    \u001b[35m2022-03-30 07:04:04.705 \u001b[0m\u001b[32m[1648649042312116/end/2 (pid 2462)] \u001b[0m\u001b[22mfrom pandas import MultiIndex, Int64Index\u001b[0m\n",
      "    \u001b[35m2022-03-30 07:04:04.707 \u001b[0m\u001b[32m[1648649042312116/end/2 (pid 2462)] \u001b[0m\u001b[1mTask finished successfully.\u001b[0m\n",
      "    \u001b[35m2022-03-30 07:04:04.707 \u001b[0m\u001b[1mDone!\u001b[0m\n",
      "    \u001b[0m\n",
      "\n"
     ]
    }
   ],
   "source": [
    "show_plain_md('test_files/strip_out.ipynb')"
   ]
  },
  {
   "cell_type": "markdown",
   "id": "8cd63ca6-0852-4bdf-afa8-ed96735a29b5",
   "metadata": {},
   "source": [
    "Notice how the lines containing the terms `FutureWarning` or `MultiIndex` are stripped out:"
   ]
  },
  {
   "cell_type": "code",
   "execution_count": 27,
   "id": "fcaec256-8b22-49e1-8af3-f70b4d623e68",
   "metadata": {},
   "outputs": [
    {
     "name": "stdout",
     "output_type": "stream",
     "text": [
      "```python\n",
      "#meta:filter_words=FutureWarning,MultiIndex\n",
      "#meta:show_steps=end\n",
      "!python serialize_xgb_dmatrix.py run\n",
      "```\n",
      "\n",
      "<CodeOutputBlock lang=\"python\">\n",
      "\n",
      "```\n",
      "    \u001b[35m\u001b[1mMetaflow 2.5.3\u001b[0m\u001b[35m\u001b[22m executing \u001b[0m\u001b[31m\u001b[1mSerializeXGBDataFlow\u001b[0m\u001b[35m\u001b[22m\u001b[0m\u001b[35m\u001b[22m for \u001b[0m\u001b[31m\u001b[1muser:hamel\u001b[0m\u001b[35m\u001b[22m\u001b[K\u001b[0m\u001b[35m\u001b[22m\u001b[0m\n",
      "    \u001b[35m\u001b[22mValidating your flow...\u001b[K\u001b[0m\u001b[35m\u001b[22m\u001b[0m\n",
      "    \u001b[32m\u001b[1m    The graph looks good!\u001b[K\u001b[0m\u001b[32m\u001b[1m\u001b[0m\n",
      "    \u001b[35m\u001b[22mRunning pylint...\u001b[K\u001b[0m\u001b[35m\u001b[22m\u001b[0m\n",
      "    \u001b[32m\u001b[1m    Pylint is happy!\u001b[K\u001b[0m\u001b[32m\u001b[1m\u001b[0m\n",
      "    \u001b[35m2022-03-30 07:04:02.315 \u001b[0m\u001b[1mWorkflow starting (run-id 1648649042312116):\u001b[0m\n",
      "    \u001b[35m2022-03-30 07:04:02.322 \u001b[0m\u001b[32m[1648649042312116/start/1 (pid 2459)] \u001b[0m\u001b[1mTask is starting.\u001b[0m\n",
      "    \u001b[35m2022-03-30 07:04:03.510 \u001b[0m\u001b[32m[1648649042312116/start/1 (pid 2459)] \u001b[0m\u001b[1mTask finished successfully.\u001b[0m\n",
      "    \u001b[35m2022-03-30 07:04:03.517 \u001b[0m\u001b[32m[1648649042312116/end/2 (pid 2462)] \u001b[0m\u001b[1mTask is starting.\u001b[0m\n",
      "    \u001b[35m2022-03-30 07:04:04.563 \u001b[0m\u001b[32m[1648649042312116/end/2 (pid 2462)] \u001b[0m\u001b[22mthere are 5 rows in the data.\u001b[0m\n",
      "    \u001b[35m2022-03-30 07:04:04.707 \u001b[0m\u001b[32m[1648649042312116/end/2 (pid 2462)] \u001b[0m\u001b[1mTask finished successfully.\u001b[0m\n",
      "    \u001b[35m2022-03-30 07:04:04.707 \u001b[0m\u001b[1mDone!\u001b[0m\n",
      "    \u001b[0m\n",
      "```\n",
      "\n",
      "</CodeOutputBlock>\n",
      "\n"
     ]
    }
   ],
   "source": [
    "c, _ = run_preprocessor([InjectMeta, FilterOutput], \n",
    "                        'test_files/strip_out.ipynb', \n",
    "                        display_results=True)\n",
    "assert 'FutureWarning:' not in c and 'from pandas import MultiIndex, Int64Index' not in c"
   ]
  },
  {
   "cell_type": "markdown",
   "id": "0484b3d2-70da-46a1-b289-f5565f993fb8",
   "metadata": {},
   "source": [
    "## Limit The Number Of Lines Of Output -"
   ]
  },
  {
   "cell_type": "code",
   "execution_count": 28,
   "id": "34812f4d-8876-4892-92bc-3c63bdcc3197",
   "metadata": {},
   "outputs": [],
   "source": [
    "#export\n",
    "class Limit(Preprocessor):\n",
    "    \"\"\"\n",
    "    Limit The Number of Lines Of Output Based on Keywords.\n",
    "    \"\"\"\n",
    "    def preprocess_cell(self, cell, resources, index):\n",
    "        root = cell.metadata.get('nbdoc', {})\n",
    "        n = root.get('limit')\n",
    "        if 'outputs' in cell and n:\n",
    "            for o in cell.outputs:\n",
    "                if o.name == 'stdout':\n",
    "                    o['text'] = '\\n'.join(o['text'].splitlines()[:int(n)] + ['...'])\n",
    "        return cell, resources"
   ]
  },
  {
   "cell_type": "code",
   "execution_count": 29,
   "id": "aa947f35-4961-4545-8b5a-15df1c307c67",
   "metadata": {},
   "outputs": [
    {
     "name": "stdout",
     "output_type": "stream",
     "text": [
      "```python\n",
      "#meta:limit=6\n",
      "!python serialize_xgb_dmatrix.py run\n",
      "```\n",
      "\n",
      "<CodeOutputBlock lang=\"python\">\n",
      "\n",
      "```\n",
      "    /Users/hamel/opt/anaconda3/lib/python3.9/site-packages/xgboost/compat.py:36: FutureWarning: pandas.Int64Index is deprecated and will be removed from pandas in a future version. Use pandas.Index with the appropriate dtype instead.\n",
      "      from pandas import MultiIndex, Int64Index\n",
      "    \u001b[35m\u001b[1mMetaflow 2.5.3\u001b[0m\u001b[35m\u001b[22m executing \u001b[0m\u001b[31m\u001b[1mSerializeXGBDataFlow\u001b[0m\u001b[35m\u001b[22m\u001b[0m\u001b[35m\u001b[22m for \u001b[0m\u001b[31m\u001b[1muser:hamel\u001b[0m\u001b[35m\u001b[22m\u001b[K\u001b[0m\u001b[35m\u001b[22m\u001b[0m\n",
      "    \u001b[35m\u001b[22mValidating your flow...\u001b[K\u001b[0m\u001b[35m\u001b[22m\u001b[0m\n",
      "    \u001b[32m\u001b[1m    The graph looks good!\u001b[K\u001b[0m\u001b[32m\u001b[1m\u001b[0m\n",
      "    \u001b[35m\u001b[22mRunning pylint...\u001b[K\u001b[0m\u001b[35m\u001b[22m\u001b[0m\n",
      "    ...\n",
      "```\n",
      "\n",
      "</CodeOutputBlock>\n",
      "\n",
      "\n",
      "```python\n",
      "#meta:limit=5\n",
      "print('\\n'.join(['hello']*10))\n",
      "```\n",
      "\n",
      "<CodeOutputBlock lang=\"python\">\n",
      "\n",
      "```\n",
      "    hello\n",
      "    hello\n",
      "    hello\n",
      "    hello\n",
      "    hello\n",
      "    ...\n",
      "```\n",
      "\n",
      "</CodeOutputBlock>\n",
      "\n"
     ]
    }
   ],
   "source": [
    "c, _ = run_preprocessor([InjectMeta, Limit], \n",
    "                        'test_files/limit.ipynb', \n",
    "                        display_results=True)\n",
    "\n",
    "_res = \"\"\"```\n",
    "    hello\n",
    "    hello\n",
    "    hello\n",
    "    hello\n",
    "    hello\n",
    "    ...\n",
    "```\"\"\"\n",
    "assert _res in c"
   ]
  },
  {
   "cell_type": "markdown",
   "id": "0f45fc6d-9730-41f6-8f82-c8ed79d42fbb",
   "metadata": {},
   "source": [
    "## Hide Specific Lines of Code -"
   ]
  },
  {
   "cell_type": "code",
   "execution_count": 30,
   "id": "eb415328-044f-44ca-ac77-4f5ae65c2235",
   "metadata": {},
   "outputs": [],
   "source": [
    "#export\n",
    "class HideInputLines(Preprocessor):\n",
    "    \"\"\"\n",
    "    Hide lines of code in code cells with the comment `#meta_hide_line` at the end of a line of code.\n",
    "    \"\"\"\n",
    "    tok = '#meta_hide_line'\n",
    "    \n",
    "    def preprocess_cell(self, cell, resources, index):\n",
    "        if cell.cell_type == 'code':\n",
    "            if self.tok in cell.source:\n",
    "                cell.source = '\\n'.join([c for c in cell.source.split('\\n') if not c.strip().endswith(self.tok)])\n",
    "        return cell, resources"
   ]
  },
  {
   "cell_type": "markdown",
   "id": "b0ea3c36-4805-4ac2-b138-38871b2b5876",
   "metadata": {},
   "source": [
    "You can use the special comment `#meta_hide_line` to hide a specific line of code in a code cell.  This is what the code looks like before:"
   ]
  },
  {
   "cell_type": "code",
   "execution_count": 31,
   "id": "ce2b4754-21cf-4a12-a82d-ccf8366d92b5",
   "metadata": {},
   "outputs": [
    {
     "name": "stdout",
     "output_type": "stream",
     "text": [
      "```python\n",
      "def show():\n",
      "    a = 2\n",
      "    b = 3 #meta_hide_line\n",
      "```\n",
      "\n"
     ]
    }
   ],
   "source": [
    "show_plain_md('test_files/hide_lines.ipynb')"
   ]
  },
  {
   "cell_type": "markdown",
   "id": "3d528a5b-0a95-47e5-919e-01987706ef52",
   "metadata": {},
   "source": [
    "and after:"
   ]
  },
  {
   "cell_type": "code",
   "execution_count": 32,
   "id": "20322d06-7adb-4d50-b1d5-b10ec5f5f2ae",
   "metadata": {},
   "outputs": [
    {
     "name": "stdout",
     "output_type": "stream",
     "text": [
      "```python\n",
      "def show():\n",
      "    a = 2\n",
      "```\n",
      "\n"
     ]
    }
   ],
   "source": [
    "c, _ = run_preprocessor([InjectMeta, HideInputLines], \n",
    "                        'test_files/hide_lines.ipynb', \n",
    "                        display_results=True)"
   ]
  },
  {
   "cell_type": "code",
   "execution_count": 33,
   "id": "f4cc17e7-a0ee-4977-b9e1-8ee8138c776f",
   "metadata": {},
   "outputs": [],
   "source": [
    "#hide \n",
    "_res = \"\"\"```python\n",
    "def show():\n",
    "    a = 2\n",
    "```\"\"\"\n",
    "assert _res in c"
   ]
  },
  {
   "cell_type": "markdown",
   "id": "3257f2a3-9f50-468c-8e35-411e862a41c6",
   "metadata": {},
   "source": [
    "## Handle Scripts With `%%writefile` -"
   ]
  },
  {
   "cell_type": "code",
   "execution_count": 34,
   "id": "2bfbc6c1-3934-45ac-8324-c859a9941d37",
   "metadata": {},
   "outputs": [],
   "source": [
    "#export\n",
    "class WriteTitle(Preprocessor):\n",
    "    \"\"\"Modify the code-fence with the filename upon %%writefile cell magic.\"\"\"\n",
    "    pattern = r'(^[\\S\\s]*%%writefile\\s)(\\S+)\\n'\n",
    "    \n",
    "    def preprocess_cell(self, cell, resources, index):\n",
    "        m = re.match(self.pattern, cell.source)\n",
    "        if m: \n",
    "            filename = m.group(2)\n",
    "            ext = filename.split('.')[-1]\n",
    "            cell.metadata.magics_language = f'{ext} title=\"{filename}\"'\n",
    "            cell.metadata.script = True\n",
    "            cell.metadata.file_ext = ext\n",
    "            cell.metadata.filename = filename\n",
    "            cell.outputs = []\n",
    "        return cell, resources"
   ]
  },
  {
   "cell_type": "markdown",
   "id": "be90ef2f-f24e-4b56-89dd-7de37eefe461",
   "metadata": {},
   "source": [
    "`WriteTitle` creates the proper code-fence with a title in the situation where the `%%writefile` magic is used.\n",
    "\n",
    "For example, here are contents before pre-processing:"
   ]
  },
  {
   "cell_type": "code",
   "execution_count": 35,
   "id": "a7f6cf89-9ea3-4748-91a5-99a84675f746",
   "metadata": {},
   "outputs": [
    {
     "name": "stdout",
     "output_type": "stream",
     "text": [
      "A test notebook\n",
      "\n",
      "\n",
      "```python\n",
      "%%writefile myflow.py\n",
      "from metaflow import FlowSpec, step\n",
      "\n",
      "class MyFlow(FlowSpec):\n",
      "    \n",
      "    @step\n",
      "    def start(self):\n",
      "        print('this is the start')\n",
      "        self.next(self.train)\n",
      "    \n",
      "    @step\n",
      "    def train(self):\n",
      "        print('the train step')\n",
      "        self.next(self.end)\n",
      "    \n",
      "    @step\n",
      "    def end(self):\n",
      "        print('this is the end')\n",
      "\n",
      "if __name__ == '__main__':\n",
      "    MyFlow()\n",
      "```\n",
      "\n",
      "    Overwriting myflow.py\n",
      "\n",
      "\n",
      "\n",
      "```python\n",
      "%%writefile hello.txt\n",
      "\n",
      "Hello World\n",
      "```\n",
      "\n",
      "    Overwriting hello.txt\n",
      "\n",
      "\n"
     ]
    }
   ],
   "source": [
    "show_plain_md('test_files/writefile.ipynb')"
   ]
  },
  {
   "cell_type": "markdown",
   "id": "7cbf3b82-1e22-47bb-9953-30aee77748c9",
   "metadata": {},
   "source": [
    "When we use `WriteTitle`, you will see the code-fence will change appropriately:"
   ]
  },
  {
   "cell_type": "code",
   "execution_count": 36,
   "id": "4c60a30d-d972-4b00-afd5-f0253670ac1a",
   "metadata": {},
   "outputs": [
    {
     "name": "stdout",
     "output_type": "stream",
     "text": [
      "A test notebook\n",
      "\n",
      "\n",
      "```py title=\"myflow.py\"\n",
      "%%writefile myflow.py\n",
      "from metaflow import FlowSpec, step\n",
      "\n",
      "class MyFlow(FlowSpec):\n",
      "    \n",
      "    @step\n",
      "    def start(self):\n",
      "        print('this is the start')\n",
      "        self.next(self.train)\n",
      "    \n",
      "    @step\n",
      "    def train(self):\n",
      "        print('the train step')\n",
      "        self.next(self.end)\n",
      "    \n",
      "    @step\n",
      "    def end(self):\n",
      "        print('this is the end')\n",
      "\n",
      "if __name__ == '__main__':\n",
      "    MyFlow()\n",
      "```\n",
      "\n",
      "\n",
      "```txt title=\"hello.txt\"\n",
      "%%writefile hello.txt\n",
      "\n",
      "Hello World\n",
      "```\n",
      "\n"
     ]
    }
   ],
   "source": [
    "c, _ = run_preprocessor([WriteTitle], 'test_files/writefile.ipynb', display_results=True)\n",
    "assert '```py title=\"myflow.py\"' in c and '```txt title=\"hello.txt\"' in c"
   ]
  },
  {
   "cell_type": "markdown",
   "id": "1092aa0b-f1f2-4913-b9bc-d6dfb405871c",
   "metadata": {},
   "source": [
    "## Clean Flags and Magics -"
   ]
  },
  {
   "cell_type": "code",
   "execution_count": 37,
   "id": "68189e46-881e-4986-bc4b-0c98e037db99",
   "metadata": {},
   "outputs": [],
   "source": [
    "#export\n",
    "_tst_flags = get_config()['tst_flags'].split('|')\n",
    "\n",
    "class CleanFlags(Preprocessor):\n",
    "    \"\"\"A preprocessor to remove Flags\"\"\"\n",
    "    patterns = [re.compile(r'^#\\s*{0}\\s*'.format(f), re.MULTILINE) for f in _tst_flags]\n",
    "    \n",
    "    def preprocess_cell(self, cell, resources, index):\n",
    "        if cell.cell_type == 'code':\n",
    "            for p in self.patterns:\n",
    "                cell.source = p.sub('', cell.source).strip()\n",
    "        return cell, resources"
   ]
  },
  {
   "cell_type": "code",
   "execution_count": 38,
   "id": "70f36b41-e14f-4181-b5eb-0f63bbac9f65",
   "metadata": {},
   "outputs": [],
   "source": [
    "c, _ = run_preprocessor([CleanFlags], _gen_nb())\n",
    "assert '#notest' not in c"
   ]
  },
  {
   "cell_type": "code",
   "execution_count": 39,
   "id": "848fd452-3d63-4c41-aaa6-e14cbeb9fdcd",
   "metadata": {},
   "outputs": [],
   "source": [
    "#export\n",
    "class CleanMagics(Preprocessor):\n",
    "    \"\"\"A preprocessor to remove cell magic commands and #cell_meta: comments\"\"\"\n",
    "    pattern = re.compile(r'(^\\s*(%%|%).+?[\\n\\r])|({0})'.format(_re_meta), re.MULTILINE)\n",
    "    \n",
    "    def preprocess_cell(self, cell, resources, index):\n",
    "        if cell.cell_type == 'code': \n",
    "            cell.source = self.pattern.sub('', cell.source).strip()\n",
    "        return cell, resources"
   ]
  },
  {
   "cell_type": "markdown",
   "id": "71917138-14f7-4c00-a864-76889b333cd7",
   "metadata": {},
   "source": [
    "`CleanMagics` strips magic cell commands `%%` so they do not appear in rendered markdown files:"
   ]
  },
  {
   "cell_type": "code",
   "execution_count": 40,
   "id": "386c787c-9623-4d5c-b4c6-9bfcd822fb56",
   "metadata": {},
   "outputs": [
    {
     "name": "stdout",
     "output_type": "stream",
     "text": [
      "A test notebook\n",
      "\n",
      "\n",
      "```py title=\"myflow.py\"\n",
      "from metaflow import FlowSpec, step\n",
      "\n",
      "class MyFlow(FlowSpec):\n",
      "    \n",
      "    @step\n",
      "    def start(self):\n",
      "        print('this is the start')\n",
      "        self.next(self.train)\n",
      "    \n",
      "    @step\n",
      "    def train(self):\n",
      "        print('the train step')\n",
      "        self.next(self.end)\n",
      "    \n",
      "    @step\n",
      "    def end(self):\n",
      "        print('this is the end')\n",
      "\n",
      "if __name__ == '__main__':\n",
      "    MyFlow()\n",
      "```\n",
      "\n",
      "\n",
      "```txt title=\"hello.txt\"\n",
      "Hello World\n",
      "```\n",
      "\n"
     ]
    }
   ],
   "source": [
    "c, _ = run_preprocessor([WriteTitle, CleanMagics], 'test_files/writefile.ipynb', display_results=True)\n",
    "assert '%%' not in c"
   ]
  },
  {
   "cell_type": "markdown",
   "id": "e228e426-3cbc-4263-b71c-6533e08c7b9b",
   "metadata": {},
   "source": [
    "Here is how `CleanMagics` Works on the file with the Metaflow log outputs from earlier, we can see that the `#cell_meta` comments are gone:"
   ]
  },
  {
   "cell_type": "code",
   "execution_count": 41,
   "id": "5df07131-3adc-4034-a633-e4abb737aa95",
   "metadata": {},
   "outputs": [
    {
     "name": "stdout",
     "output_type": "stream",
     "text": [
      "```\n",
      "!python myflow.py run\n",
      "```\n",
      "\n",
      "<CodeOutputBlock lang=\"\">\n",
      "\n",
      "```\n",
      "    ...\n",
      "    \u001b[35m2022-02-15 14:01:14.810 \u001b[0m\u001b[32m[1644962474801237/start/1 (pid 46758)] \u001b[0m\u001b[1mTask is starting.\u001b[0m\n",
      "    \u001b[35m2022-02-15 14:01:15.433 \u001b[0m\u001b[32m[1644962474801237/start/1 (pid 46758)] \u001b[0m\u001b[22mthis is the start\u001b[0m\n",
      "    \u001b[35m2022-02-15 14:01:15.500 \u001b[0m\u001b[32m[1644962474801237/start/1 (pid 46758)] \u001b[0m\u001b[1mTask finished successfully.\u001b[0m\n",
      "    ...\n",
      "    \u001b[35m2022-02-15 14:01:15.507 \u001b[0m\u001b[32m[1644962474801237/train/2 (pid 46763)] \u001b[0m\u001b[1mTask is starting.\u001b[0m\n",
      "    \u001b[35m2022-02-15 14:01:16.123 \u001b[0m\u001b[32m[1644962474801237/train/2 (pid 46763)] \u001b[0m\u001b[22mthe train step\u001b[0m\n",
      "    \u001b[35m2022-02-15 14:01:16.188 \u001b[0m\u001b[32m[1644962474801237/train/2 (pid 46763)] \u001b[0m\u001b[1mTask finished successfully.\u001b[0m\n",
      "    ...\n",
      "```\n",
      "\n",
      "</CodeOutputBlock>\n",
      "\n",
      "\n",
      "```\n",
      "!python myflow.py run\n",
      "```\n",
      "\n",
      "<CodeOutputBlock lang=\"\">\n",
      "\n",
      "```\n",
      "    ...\n",
      "    \u001b[35m2022-02-15 14:01:18.924 \u001b[0m\u001b[32m[1644962478210532/train/2 (pid 46783)] \u001b[0m\u001b[1mTask is starting.\u001b[0m\n",
      "    \u001b[35m2022-02-15 14:01:19.566 \u001b[0m\u001b[32m[1644962478210532/train/2 (pid 46783)] \u001b[0m\u001b[22mthe train step\u001b[0m\n",
      "    \u001b[35m2022-02-15 14:01:19.632 \u001b[0m\u001b[32m[1644962478210532/train/2 (pid 46783)] \u001b[0m\u001b[1mTask finished successfully.\u001b[0m\n",
      "    ...\n",
      "```\n",
      "\n",
      "</CodeOutputBlock>\n",
      "\n"
     ]
    }
   ],
   "source": [
    "c, _ = run_preprocessor([InjectMeta, MetaflowSelectSteps, CleanMagics], \n",
    "                        'test_files/run_flow_showstep.ipynb', display_results=True)"
   ]
  },
  {
   "cell_type": "code",
   "execution_count": 42,
   "id": "664c2b21-7c1e-4bba-8163-96c6f5e97baa",
   "metadata": {},
   "outputs": [],
   "source": [
    "#hide\n",
    "c, _ = run_preprocessor([WriteTitle, CleanMagics], 'test_files/hello_world.ipynb')\n",
    "assert '#cell_meta' not in c"
   ]
  },
  {
   "cell_type": "markdown",
   "id": "9c6c8844-e38b-4515-b2ca-eda7ede66fed",
   "metadata": {},
   "source": [
    "## Formatting Code With Black -"
   ]
  },
  {
   "cell_type": "code",
   "execution_count": 43,
   "id": "d10da23b-4373-4275-8492-e6f65f065e28",
   "metadata": {},
   "outputs": [],
   "source": [
    "#export\n",
    "black_mode = Mode()\n",
    "\n",
    "class Black(Preprocessor):\n",
    "    \"\"\"Format code that has a cell tag `black`\"\"\"\n",
    "    def preprocess_cell(self, cell, resources, index):\n",
    "        tags = cell.metadata.get('tags', [])\n",
    "        if cell.cell_type == 'code' and 'black' in tags:\n",
    "            cell.source = format_str(src_contents=cell.source, mode=black_mode).strip()\n",
    "        return cell, resources"
   ]
  },
  {
   "cell_type": "markdown",
   "id": "b6d41a4e-3947-4a88-ab55-d2d11c152627",
   "metadata": {},
   "source": [
    "`Black` is a preprocessor that will format cells that have the cell tag `black` with [Python black](https://github.com/psf/black) code formatting.  You can apply tags via the notebook interface or with a comment `meta:tag=black`."
   ]
  },
  {
   "cell_type": "markdown",
   "id": "5c9d8bee-ef2f-4e15-a18b-9ba8dbbfdc9f",
   "metadata": {},
   "source": [
    "This is how cell formatting looks before [black](https://github.com/psf/black) formatting:"
   ]
  },
  {
   "cell_type": "code",
   "execution_count": 44,
   "id": "de8bd9e4-389a-4ff1-87fc-3abc26470126",
   "metadata": {},
   "outputs": [
    {
     "name": "stdout",
     "output_type": "stream",
     "text": [
      "Format with black\n",
      "\n",
      "\n",
      "```python\n",
      "#meta:tag=black\n",
      "j = [1,\n",
      "     2,\n",
      "     3\n",
      "]\n",
      "```\n",
      "\n",
      "\n",
      "```python\n",
      "%%writefile black_test.py\n",
      "#meta:tag=black\n",
      "\n",
      "\n",
      "def very_important_function(template: str, *variables, file: os.PathLike, engine: str, header: bool = True, debug: bool = False):\n",
      "    \"\"\"Applies `variables` to the `template` and writes to `file`.\"\"\"\n",
      "    with open(file, 'w') as f:\n",
      "        pass\n",
      "```\n",
      "\n"
     ]
    }
   ],
   "source": [
    "show_plain_md('test_files/black.ipynb')"
   ]
  },
  {
   "cell_type": "markdown",
   "id": "6331b74a-bc93-4668-9ea2-df6beefed017",
   "metadata": {},
   "source": [
    "After black is applied, the code looks like this:"
   ]
  },
  {
   "cell_type": "code",
   "execution_count": 45,
   "id": "f2169a9c-8c59-468f-ad96-a4b453b27878",
   "metadata": {},
   "outputs": [
    {
     "name": "stdout",
     "output_type": "stream",
     "text": [
      "Format with black\n",
      "\n",
      "\n",
      "```python\n",
      "j = [1, 2, 3]\n",
      "```\n",
      "\n",
      "\n",
      "```python\n",
      "def very_important_function(\n",
      "    template: str,\n",
      "    *variables,\n",
      "    file: os.PathLike,\n",
      "    engine: str,\n",
      "    header: bool = True,\n",
      "    debug: bool = False\n",
      "):\n",
      "    \"\"\"Applies `variables` to the `template` and writes to `file`.\"\"\"\n",
      "    with open(file, \"w\") as f:\n",
      "        pass\n",
      "```\n",
      "\n"
     ]
    }
   ],
   "source": [
    "c, _ = run_preprocessor([InjectMeta, UpdateTags, CleanMagics, Black], 'test_files/black.ipynb', display_results=True)\n",
    "assert '[1, 2, 3]' in c\n",
    "assert 'very_important_function(\\n    template: str,' in c"
   ]
  },
  {
   "cell_type": "markdown",
   "id": "53c889a6-839e-48f3-b3b5-baddbedf12c7",
   "metadata": {},
   "source": [
    "## Show File Contents -"
   ]
  },
  {
   "cell_type": "code",
   "execution_count": 46,
   "id": "8a3e2efb-a9e4-41a9-87f8-def69904f032",
   "metadata": {},
   "outputs": [],
   "source": [
    "#export\n",
    "class CatFiles(Preprocessor):\n",
    "    \"\"\"Cat arbitrary files with %cat\"\"\"\n",
    "    pattern = '^\\s*!'\n",
    "    \n",
    "    def preprocess_cell(self, cell, resources, index):\n",
    "        if cell.cell_type == 'code' and re.search(self.pattern, cell.source):\n",
    "            cell.metadata.magics_language = 'bash'\n",
    "            cell.source = re.sub(self.pattern, '', cell.source).strip()\n",
    "        return cell, resources"
   ]
  },
  {
   "cell_type": "markdown",
   "id": "f985181e-e9c2-489a-b59d-f3f8f3fe9051",
   "metadata": {},
   "source": [
    "## Format Shell Commands -"
   ]
  },
  {
   "cell_type": "code",
   "execution_count": 47,
   "id": "97249bda-91dd-42ef-9d36-5efc45fad564",
   "metadata": {},
   "outputs": [],
   "source": [
    "#export\n",
    "class BashIdentify(Preprocessor):\n",
    "    \"\"\"A preprocessor to identify bash commands and mark them appropriately\"\"\"\n",
    "    pattern = re.compile('^\\s*!', flags=re.MULTILINE)\n",
    "    \n",
    "    def preprocess_cell(self, cell, resources, index):\n",
    "        if cell.cell_type == 'code' and self.pattern.search(cell.source):\n",
    "            cell.metadata.magics_language = 'bash'\n",
    "            cell.source = self.pattern.sub('', cell.source).strip()\n",
    "        return cell, resources"
   ]
  },
  {
   "cell_type": "markdown",
   "id": "36ffc28f-1735-48ac-942a-74c692afa99b",
   "metadata": {},
   "source": [
    "When we issue a shell command in a notebook with `!`, we need to change the code-fence from `python` to `bash` and remove the `!`:"
   ]
  },
  {
   "cell_type": "code",
   "execution_count": 48,
   "id": "98afbdae-b121-4631-a4ea-69b339b8a077",
   "metadata": {},
   "outputs": [
    {
     "name": "stdout",
     "output_type": "stream",
     "text": [
      "```bash\n",
      "python myflow.py run\n",
      "```\n",
      "\n",
      "<CodeOutputBlock lang=\"bash\">\n",
      "\n",
      "```\n",
      "    \u001b[35m \u001b[0m\u001b[1mWorkflow starting (run-id 1647304124981100):\u001b[0m\n",
      "    \u001b[35m \u001b[0m\u001b[32m[1647304124981100/start/1 (pid 41951)] \u001b[0m\u001b[1mTask is starting.\u001b[0m\n",
      "    \u001b[35m \u001b[0m\u001b[32m[1647304124981100/start/1 (pid 41951)] \u001b[0m\u001b[22mthis is the start\u001b[0m\n",
      "    \u001b[35m \u001b[0m\u001b[32m[1647304124981100/start/1 (pid 41951)] \u001b[0m\u001b[1mTask finished successfully.\u001b[0m\n",
      "    \u001b[35m \u001b[0m\u001b[32m[1647304124981100/end/2 (pid 41954)] \u001b[0m\u001b[1mTask is starting.\u001b[0m\n",
      "    \u001b[35m \u001b[0m\u001b[32m[1647304124981100/end/2 (pid 41954)] \u001b[0m\u001b[22mthis is the end\u001b[0m\n",
      "    \u001b[35m \u001b[0m\u001b[32m[1647304124981100/end/2 (pid 41954)] \u001b[0m\u001b[1mTask finished successfully.\u001b[0m\n",
      "    \u001b[35m \u001b[0m\u001b[1mDone!\u001b[0m\n",
      "    \u001b[0m\n",
      "```\n",
      "\n",
      "</CodeOutputBlock>\n",
      "\n"
     ]
    }
   ],
   "source": [
    "c, _ = run_preprocessor([MetaflowTruncate, CleanMagics, BashIdentify], 'test_files/run_flow.ipynb', display_results=True)\n",
    "assert \"```bash\" in c and '!python' not in c"
   ]
  },
  {
   "cell_type": "markdown",
   "id": "b8487d8d-429b-4cbf-94a2-7482e79d8cd4",
   "metadata": {},
   "source": [
    "## Remove `ShowDoc` Input Cells -"
   ]
  },
  {
   "cell_type": "code",
   "execution_count": 49,
   "id": "8b58a09e-f32c-421d-9c5d-30dff9f8e802",
   "metadata": {},
   "outputs": [],
   "source": [
    "#export\n",
    "_re_showdoc = re.compile(r'^ShowDoc', re.MULTILINE)\n",
    "\n",
    "\n",
    "def _isShowDoc(cell):\n",
    "    \"Return True if cell contains ShowDoc.\"\n",
    "    if cell['cell_type'] == 'code':\n",
    "        if _re_showdoc.search(cell.source): return True\n",
    "    else: return False\n",
    "\n",
    "\n",
    "class CleanShowDoc(Preprocessor):\n",
    "    \"\"\"Ensure that ShowDoc output gets cleaned in the associated notebook.\"\"\"\n",
    "    _re_html = re.compile(r'<HTMLRemove>.*</HTMLRemove>', re.DOTALL)\n",
    "    \n",
    "    def preprocess_cell(self, cell, resources, index):\n",
    "        \"Convert cell to a raw cell with just the stripped portion of the output.\"\n",
    "        if _isShowDoc(cell):\n",
    "            all_outs = [o['data'] for o in cell.outputs if 'data' in o]\n",
    "            html_outs = [o['text/html'] for o in all_outs if 'text/html' in o]\n",
    "            if len(html_outs) != 1:\n",
    "                return cell, resources\n",
    "            cleaned_html = self._re_html.sub('', html_outs[0])\n",
    "            cell = AttrDict({'cell_type':'raw', 'id':cell.id, 'metadata':cell.metadata, 'source':cleaned_html})\n",
    "                    \n",
    "        return cell, resources"
   ]
  },
  {
   "cell_type": "code",
   "execution_count": 50,
   "id": "31e21ba2-a9bc-4c80-b45a-4c88a60e2a25",
   "metadata": {},
   "outputs": [
    {
     "name": "stdout",
     "output_type": "stream",
     "text": [
      "```python\n",
      "from fastcore.all import test_eq\n",
      "from nbdoc.showdoc import ShowDoc\n",
      "```\n",
      "\n",
      "\n",
      "<DocSection type=\"function\" name=\"test_eq\" module=\"fastcore.test\" link=\"https://github.com/fastcore/tree/masterhttps://github.com/fastai/fastcore/tree/master/fastcore/test.py#L34\">\n",
      "<SigArgSection>\n",
      "<SigArg name=\"a\" /><SigArg name=\"b\" />\n",
      "</SigArgSection>\n",
      "<Description summary=\"`test` that `a==b`\" />\n",
      "\n",
      "</DocSection>\n",
      "\n",
      "\n"
     ]
    }
   ],
   "source": [
    "_result, _ = run_preprocessor([CleanShowDoc], 'test_files/doc.ipynb')\n",
    "assert '<HTMLRemove>' not in _result\n",
    "print(_result)"
   ]
  },
  {
   "cell_type": "markdown",
   "id": "7ce327f3-4bfd-4268-8224-7ce8c299aa0c",
   "metadata": {},
   "source": [
    "## Composing Preprocessors Into A Pipeline\n",
    "\n",
    "Lets see how you can compose all of these preprocessors together to process notebooks appropriately:"
   ]
  },
  {
   "cell_type": "code",
   "execution_count": 51,
   "id": "fac43e18-9e51-4ede-af74-3c5d710925a1",
   "metadata": {},
   "outputs": [],
   "source": [
    "#export\n",
    "def get_mdx_exporter(template_file='ob.tpl'):\n",
    "    \"\"\"A mdx notebook exporter which composes many pre-processors together.\"\"\"\n",
    "    c = Config()\n",
    "    c.TagRemovePreprocessor.remove_cell_tags = (\"remove_cell\", \"hide\")\n",
    "    c.TagRemovePreprocessor.remove_all_outputs_tags = (\"remove_output\", \"remove_outputs\", \"hide_output\", \"hide_outputs\")\n",
    "    c.TagRemovePreprocessor.remove_input_tags = ('remove_input', 'remove_inputs', \"hide_input\", \"hide_inputs\")\n",
    "    pp = [InjectMeta, WriteTitle, CleanMagics, BashIdentify, MetaflowTruncate,\n",
    "          MetaflowSelectSteps, UpdateTags, InsertWarning, TagRemovePreprocessor, CleanFlags, CleanShowDoc, RmEmptyCode, \n",
    "          StripAnsi, Limit, HideInputLines, FilterOutput, Black, ImageSave, ImagePath, HTMLEscape]\n",
    "    c.MarkdownExporter.preprocessors = pp\n",
    "    tmp_dir = Path(__file__).parent/'templates/'\n",
    "    tmp_file = tmp_dir/f\"{template_file}\"\n",
    "    if not tmp_file.exists(): raise ValueError(f\"{tmp_file} does not exist in {tmp_dir}\")\n",
    "    c.MarkdownExporter.template_file = str(tmp_file)\n",
    "    return MarkdownExporter(config=c)"
   ]
  },
  {
   "cell_type": "markdown",
   "id": "54f40fe8-8f24-4d8f-845f-193d24b2b01f",
   "metadata": {},
   "source": [
    "`get_mdx_exporter` combines all of the previous preprocessors, along with the built in `TagRemovePreprocessor` to allow for hiding cell inputs/outputs based on cell tags.  Here is an example of markdown generated from a notebook with the default preprocessing:"
   ]
  },
  {
   "cell_type": "code",
   "execution_count": 52,
   "id": "566210d4-eef0-47ae-a6a5-c269089c7df5",
   "metadata": {},
   "outputs": [
    {
     "name": "stdout",
     "output_type": "stream",
     "text": [
      "---\n",
      "title: my hello page title\n",
      "description: my hello page description\n",
      "hide_table_of_contents: true\n",
      "---\n",
      "## This is a test notebook\n",
      "\n",
      "This is a shell command:\n",
      "\n",
      "\n",
      "```python\n",
      "! echo hello\n",
      "```\n",
      "\n",
      "    hello\n",
      "\n",
      "\n",
      "We are writing a python script to disk:\n",
      "\n",
      "\n",
      "```python\n",
      "%%writefile myflow.py\n",
      "\n",
      "from metaflow import FlowSpec, step\n",
      "\n",
      "class MyFlow(FlowSpec):\n",
      "    \n",
      "    @step\n",
      "    def start(self):\n",
      "        print('this is the start')\n",
      "        self.next(self.end)\n",
      "    \n",
      "    @step\n",
      "    def end(self):\n",
      "        print('this is the end')\n",
      "\n",
      "if __name__ == '__main__':\n",
      "    MyFlow()\n",
      "```\n",
      "\n",
      "    Overwriting myflow.py\n",
      "\n",
      "\n",
      "Another shell command where we run a flow:\n",
      "\n",
      "\n",
      "```python\n",
      "#cell_meta:show_steps=start\n",
      "! python myflow.py run\n",
      "```\n",
      "\n",
      "    \u001b[35m\u001b[1mMetaflow 2.5.3\u001b[0m\u001b[35m\u001b[22m executing \u001b[0m\u001b[31m\u001b[1mMyFlow\u001b[0m\u001b[35m\u001b[22m\u001b[0m\u001b[35m\u001b[22m for \u001b[0m\u001b[31m\u001b[1muser:hamel\u001b[0m\u001b[35m\u001b[22m\u001b[K\u001b[0m\u001b[35m\u001b[22m\u001b[0m\n",
      "    \u001b[35m\u001b[22mValidating your flow...\u001b[K\u001b[0m\u001b[35m\u001b[22m\u001b[0m\n",
      "    \u001b[32m\u001b[1m    The graph looks good!\u001b[K\u001b[0m\u001b[32m\u001b[1m\u001b[0m\n",
      "    \u001b[35m\u001b[22mRunning pylint...\u001b[K\u001b[0m\u001b[35m\u001b[22m\u001b[0m\n",
      "    \u001b[32m\u001b[1m    Pylint is happy!\u001b[K\u001b[0m\u001b[32m\u001b[1m\u001b[0m\n",
      "    \u001b[35m2022-03-10 22:52:37.069 \u001b[0m\u001b[1mWorkflow starting (run-id 1646981557065941):\u001b[0m\n",
      "    \u001b[35m2022-03-10 22:52:37.077 \u001b[0m\u001b[32m[1646981557065941/start/1 (pid 54733)] \u001b[0m\u001b[1mTask is starting.\u001b[0m\n",
      "    \u001b[35m2022-03-10 22:52:37.752 \u001b[0m\u001b[32m[1646981557065941/start/1 (pid 54733)] \u001b[0m\u001b[22mthis is the start\u001b[0m\n",
      "    \u001b[35m2022-03-10 22:52:37.841 \u001b[0m\u001b[32m[1646981557065941/start/1 (pid 54733)] \u001b[0m\u001b[1mTask finished successfully.\u001b[0m\n",
      "    \u001b[35m2022-03-10 22:52:37.849 \u001b[0m\u001b[32m[1646981557065941/end/2 (pid 54736)] \u001b[0m\u001b[1mTask is starting.\u001b[0m\n",
      "    \u001b[35m2022-03-10 22:52:38.519 \u001b[0m\u001b[32m[1646981557065941/end/2 (pid 54736)] \u001b[0m\u001b[22mthis is the end\u001b[0m\n",
      "    \u001b[35m2022-03-10 22:52:38.604 \u001b[0m\u001b[32m[1646981557065941/end/2 (pid 54736)] \u001b[0m\u001b[1mTask finished successfully.\u001b[0m\n",
      "    \u001b[35m2022-03-10 22:52:38.604 \u001b[0m\u001b[1mDone!\u001b[0m\n",
      "    \u001b[0m\n",
      "\n",
      "This is a normal python cell:\n",
      "\n",
      "\n",
      "```python\n",
      "a = 2\n",
      "a\n",
      "```\n",
      "\n",
      "\n",
      "\n",
      "\n",
      "    2\n",
      "\n",
      "\n",
      "\n",
      "The next cell has a cell tag of `remove_input`, so you should only see the output of the cell:\n",
      "\n",
      "\n",
      "```python\n",
      "#meta:tag=remove_input\n",
      "print('hello, you should not see the print statement that produced me')\n",
      "```\n",
      "\n",
      "    hello, you should not see the print statement that produced me\n",
      "\n",
      "\n",
      "Pandas DataFrame:\n",
      "\n",
      "\n",
      "```python\n",
      "import pandas as pd\n",
      "pd.read_csv('https://github.com/outerbounds/.data/raw/main/hospital_readmission.csv').head(3).iloc[:, :3]\n",
      "```\n",
      "\n",
      "\n",
      "\n",
      "\n",
      "<div>\n",
      "<style scoped>\n",
      "    .dataframe tbody tr th:only-of-type {\n",
      "        vertical-align: middle;\n",
      "    }\n",
      "\n",
      "    .dataframe tbody tr th {\n",
      "        vertical-align: top;\n",
      "    }\n",
      "\n",
      "    .dataframe thead th {\n",
      "        text-align: right;\n",
      "    }\n",
      "</style>\n",
      "<table border=\"1\" class=\"dataframe\">\n",
      "  <thead>\n",
      "    <tr style=\"text-align: right;\">\n",
      "      <th></th>\n",
      "      <th>time_in_hospital</th>\n",
      "      <th>num_lab_procedures</th>\n",
      "      <th>num_procedures</th>\n",
      "    </tr>\n",
      "  </thead>\n",
      "  <tbody>\n",
      "    <tr>\n",
      "      <th>0</th>\n",
      "      <td>14</td>\n",
      "      <td>41</td>\n",
      "      <td>0</td>\n",
      "    </tr>\n",
      "    <tr>\n",
      "      <th>1</th>\n",
      "      <td>2</td>\n",
      "      <td>30</td>\n",
      "      <td>0</td>\n",
      "    </tr>\n",
      "    <tr>\n",
      "      <th>2</th>\n",
      "      <td>5</td>\n",
      "      <td>66</td>\n",
      "      <td>0</td>\n",
      "    </tr>\n",
      "  </tbody>\n",
      "</table>\n",
      "</div>\n",
      "\n",
      "\n",
      "\n",
      "A matplotlib plot:\n",
      "\n",
      "\n",
      "```python\n",
      "from matplotlib import pyplot as plt\n",
      "plt.plot(range(20), range(20))\n",
      "plt.plot(range(10), range(10))\n",
      "plt.show()\n",
      "```\n",
      "\n",
      "\n",
      "    \n",
      "![png](output_15_0.png)\n",
      "    \n",
      "\n",
      "\n"
     ]
    }
   ],
   "source": [
    "show_plain_md('test_files/example_input.ipynb')"
   ]
  },
  {
   "cell_type": "markdown",
   "id": "c6724a53-f802-487e-996f-b75d5701090d",
   "metadata": {},
   "source": [
    "Here is the same notebook, but with all of the preprocessors that we defined in this module.  Additionally, we hide the input of the last cell which prints `hello, you should not see the print statement...` by using the built in `TagRemovePreprocessor`:"
   ]
  },
  {
   "cell_type": "code",
   "execution_count": 53,
   "id": "4ed86f7b-de43-4992-bc59-49090bc4cd55",
   "metadata": {},
   "outputs": [
    {
     "name": "stdout",
     "output_type": "stream",
     "text": [
      "---\n",
      "title: my hello page title\n",
      "description: my hello page description\n",
      "hide_table_of_contents: true\n",
      "---\n",
      "\n",
      "\n",
      "<!-- WARNING: THIS FILE WAS AUTOGENERATED! DO NOT EDIT! Instead, edit the notebook w/the location & name as this file. -->\n",
      "\n",
      "## This is a test notebook\n",
      "\n",
      "This is a shell command:\n",
      "\n",
      "\n",
      "```bash\n",
      "echo hello\n",
      "```\n",
      "\n",
      "<CodeOutputBlock lang=\"bash\">\n",
      "\n",
      "```\n",
      "    hello\n",
      "```\n",
      "\n",
      "</CodeOutputBlock>\n",
      "\n",
      "We are writing a python script to disk:\n",
      "\n",
      "\n",
      "```py title=\"myflow.py\"\n",
      "from metaflow import FlowSpec, step\n",
      "\n",
      "class MyFlow(FlowSpec):\n",
      "    \n",
      "    @step\n",
      "    def start(self):\n",
      "        print('this is the start')\n",
      "        self.next(self.end)\n",
      "    \n",
      "    @step\n",
      "    def end(self):\n",
      "        print('this is the end')\n",
      "\n",
      "if __name__ == '__main__':\n",
      "    MyFlow()\n",
      "```\n",
      "\n",
      "Another shell command where we run a flow:\n",
      "\n",
      "\n",
      "```bash\n",
      "python myflow.py run\n",
      "```\n",
      "\n",
      "<CodeOutputBlock lang=\"bash\">\n",
      "\n",
      "```\n",
      "    ...\n",
      "     [1646981557065941/start/1 (pid 54733)] Task is starting.\n",
      "     [1646981557065941/start/1 (pid 54733)] this is the start\n",
      "     [1646981557065941/start/1 (pid 54733)] Task finished successfully.\n",
      "    ...\n",
      "```\n",
      "\n",
      "</CodeOutputBlock>\n",
      "\n",
      "This is a normal python cell:\n",
      "\n",
      "\n",
      "```python\n",
      "a = 2\n",
      "a\n",
      "```\n",
      "\n",
      "<CodeOutputBlock lang=\"python\">\n",
      "\n",
      "```\n",
      "    2\n",
      "```\n",
      "\n",
      "</CodeOutputBlock>\n",
      "\n",
      "The next cell has a cell tag of `remove_input`, so you should only see the output of the cell:\n",
      "\n",
      "<CodeOutputBlock lang=\"python\">\n",
      "\n",
      "```\n",
      "    hello, you should not see the print statement that produced me\n",
      "```\n",
      "\n",
      "</CodeOutputBlock>\n",
      "\n",
      "Pandas DataFrame:\n",
      "\n",
      "\n",
      "```python\n",
      "import pandas as pd\n",
      "pd.read_csv('https://github.com/outerbounds/.data/raw/main/hospital_readmission.csv').head(3).iloc[:, :3]\n",
      "```\n",
      "    \n",
      "<HTMLOutputBlock >\n",
      "\n",
      "\n",
      "\n",
      "\n",
      "```html\n",
      "<div>\n",
      "<style scoped>\n",
      "    .dataframe tbody tr th:only-of-type {\n",
      "        vertical-align: middle;\n",
      "    }\n",
      "\n",
      "    .dataframe tbody tr th {\n",
      "        vertical-align: top;\n",
      "    }\n",
      "\n",
      "    .dataframe thead th {\n",
      "        text-align: right;\n",
      "    }\n",
      "</style>\n",
      "<table border=\"1\" class=\"dataframe\">\n",
      "  <thead>\n",
      "    <tr style=\"text-align: right;\">\n",
      "      <th></th>\n",
      "      <th>time_in_hospital</th>\n",
      "      <th>num_lab_procedures</th>\n",
      "      <th>num_procedures</th>\n",
      "    </tr>\n",
      "  </thead>\n",
      "  <tbody>\n",
      "    <tr>\n",
      "      <th>0</th>\n",
      "      <td>14</td>\n",
      "      <td>41</td>\n",
      "      <td>0</td>\n",
      "    </tr>\n",
      "    <tr>\n",
      "      <th>1</th>\n",
      "      <td>2</td>\n",
      "      <td>30</td>\n",
      "      <td>0</td>\n",
      "    </tr>\n",
      "    <tr>\n",
      "      <th>2</th>\n",
      "      <td>5</td>\n",
      "      <td>66</td>\n",
      "      <td>0</td>\n",
      "    </tr>\n",
      "  </tbody>\n",
      "</table>\n",
      "</div>\n",
      "```\n",
      "\n",
      "\n",
      "\n",
      "</HTMLOutputBlock>\n",
      "\n",
      "A matplotlib plot:\n",
      "\n",
      "\n",
      "```python\n",
      "from matplotlib import pyplot as plt\n",
      "plt.plot(range(20), range(20))\n",
      "plt.plot(range(10), range(10))\n",
      "plt.show()\n",
      "```\n",
      "\n",
      "<CodeOutputBlock lang=\"python\">\n",
      "\n",
      "```\n",
      "    \n",
      "![png](_example_input_files/output_15_0.png)\n",
      "    \n",
      "```\n",
      "\n",
      "</CodeOutputBlock>\n",
      "\n"
     ]
    }
   ],
   "source": [
    "exp = get_mdx_exporter()\n",
    "print(exp.from_filename('test_files/example_input.ipynb')[0])"
   ]
  }
 ],
 "metadata": {
  "kernelspec": {
   "display_name": "Python 3 (ipykernel)",
   "language": "python",
   "name": "python3"
  },
  "language_info": {
   "codemirror_mode": {
    "name": "ipython",
    "version": 3
   },
   "file_extension": ".py",
   "mimetype": "text/x-python",
   "name": "python",
   "nbconvert_exporter": "python",
   "pygments_lexer": "ipython3",
   "version": "3.9.7"
  }
 },
 "nbformat": 4,
 "nbformat_minor": 5
}
