{
 "cells": [
  {
   "cell_type": "code",
   "execution_count": 1,
   "id": "4344ec50-4e1f-41e6-914e-7480bd7186e1",
   "metadata": {},
   "outputs": [],
   "source": [
    "#default_exp docindex"
   ]
  },
  {
   "cell_type": "markdown",
   "id": "e329ae76-9c56-42c9-ad59-da7a88fa770a",
   "metadata": {},
   "source": [
    "# docindex\n",
    "> Generate an index related to all entities rendered with `ShowDoc`"
   ]
  },
  {
   "cell_type": "code",
   "execution_count": 2,
   "id": "fc69cd09-d47e-4309-ab75-5a7c4107e23b",
   "metadata": {},
   "outputs": [],
   "source": [
    "#export\n",
    "from functools import partial\n",
    "import re\n",
    "from pprint import pformat\n",
    "import json\n",
    "from nbdev.export import nbglob, get_config\n",
    "from fastcore.utils import Path, urlread\n",
    "from fastcore.basics import merge\n",
    "from fastcore.script import call_parse, Param, store_false, store_true\n",
    "\n",
    "_re_name = re.compile(r'<DocSection type=\"(?!decorator)\\S+\" name=\"(\\S+)\"')\n",
    "_re_decname = re.compile(r'<DocSection type=\"decorator\" name=\"(\\S+)\"')\n",
    "_re_slug = re.compile(r'---.*slug: (\\S+).*---', flags=re.DOTALL)"
   ]
  },
  {
   "cell_type": "code",
   "execution_count": 3,
   "id": "bb2bd79e-df8b-49e3-921f-94f56df7258a",
   "metadata": {},
   "outputs": [],
   "source": [
    "#hide\n",
    "from nbdoc.showdoc import ShowDoc\n",
    "import test_lib.example as ex\n",
    "from fastcore.test import test_eq"
   ]
  },
  {
   "cell_type": "code",
   "execution_count": 4,
   "id": "125fe470-65fc-484e-8377-8e319c2e0d12",
   "metadata": {},
   "outputs": [],
   "source": [
    "#hide\n",
    "\n",
    "#This creates a test file #1 \n",
    "p = Path('test_files/_md_files/test_docs.md')\n",
    "p.write_text(ShowDoc(ex.function_with_types_in_docstring).jsx)\n",
    "\n",
    "\n",
    "#This creates a test file #2\n",
    "frontmatter = \"\"\"---\n",
    "key2: value2\n",
    "slug: custom/pathfor/site\n",
    "key: value\n",
    "---\n",
    "\"\"\"\n",
    "p = Path('test_files/_md_files/front_matter_test_docs.md')\n",
    "p.write_text(frontmatter + ShowDoc(ex.function_with_pep484_type_annotations).jsx);"
   ]
  },
  {
   "cell_type": "code",
   "execution_count": 5,
   "id": "8fc88270-d057-4ec5-a78f-683828630260",
   "metadata": {},
   "outputs": [],
   "source": [
    "#export\n",
    "\n",
    "mdglob = partial(nbglob, recursive=True, extension='.md', config_key='doc_path')\n",
    "\n",
    "def _add_at(s): \n",
    "    if s: return s if s.startswith('@') else '@'+s\n",
    "\n",
    "def _get_md_path(path):\n",
    "    cfg = get_config() \n",
    "    if path: return Path(path)\n",
    "    else: return Path(cfg.get('doc_path', '.'))\n",
    "\n",
    "def _get_md_files(path): return mdglob(_get_md_path(path))"
   ]
  },
  {
   "cell_type": "code",
   "execution_count": 6,
   "id": "1758a719-f5a9-4c62-b9d4-d1a78a90684c",
   "metadata": {},
   "outputs": [],
   "source": [
    "#export\n",
    "def build_index(path=None, update_existing=False):\n",
    "    \"Build an index of names generated with `ShowDoc` to document paths.\"\n",
    "    path = _get_md_path(path)\n",
    "    cfg = get_config() \n",
    "    doc_host = cfg['doc_host']\n",
    "    base_url = cfg['doc_baseurl']\n",
    "    \n",
    "    if doc_host.endswith('/'): doc_host = doc_host[:-1]\n",
    "    if not base_url.startswith('/'): base_url = '/' + base_url\n",
    "    if not base_url.endswith('/'): base_url += '/'\n",
    "    doc_url = doc_host + base_url\n",
    "    \n",
    "    reverse_idx = {}\n",
    "    for f in _get_md_files(path):\n",
    "        txt = f.read_text()\n",
    "        decnames = [_add_at(s) for s in _re_decname.findall(txt)]\n",
    "        names = _re_name.findall(txt)\n",
    "        slug_match = _re_slug.search(txt)\n",
    "        \n",
    "        if slug_match: \n",
    "            doc_path = slug_match.group(1)\n",
    "        else:\n",
    "            doc_path = str(f.relative_to(path).with_suffix(''))\n",
    "\n",
    "        for n in names+decnames: reverse_idx[n] = doc_url + doc_path + f'#{n}'\n",
    "    if update_existing: \n",
    "        idx = cfg.config_path/'_nbdoc_index.json'\n",
    "        if idx.exists(): return merge(idx.read_json(), reverse_idx)\n",
    "    if reverse_idx:\n",
    "        (cfg.config_path/'_nbdoc_index.json').write_text(f'{json.dumps(reverse_idx, indent=4)}')\n",
    "    return reverse_idx"
   ]
  },
  {
   "cell_type": "markdown",
   "id": "9711d551-7622-4057-b48d-54fb0e0f3f39",
   "metadata": {},
   "source": [
    "`build_index` will build an index to names generated with `ShowDoc` to document paths that we can later use to construct links for documentation.\n",
    "\n",
    "Consider the follwing two markdown files, `test_docs.md` and `front_matter_with_test_docs.md`:"
   ]
  },
  {
   "cell_type": "code",
   "execution_count": 7,
   "id": "6097a231-84ac-4ce8-9286-bd6d9a94f158",
   "metadata": {},
   "outputs": [
    {
     "name": "stdout",
     "output_type": "stream",
     "text": [
      "<DocSection type=\"function\" name=\"function_with_types_in_docstring\" module=\"test_lib.example\" show_import=\"False\" heading_level=\"3\">\n",
      "<SigArgSection>\n",
      "<SigArg name=\"param1\" /><SigArg name=\"param2\" />\n",
      "</SigArgSection>\n",
      "<Description summary=\"Example function with types documented in the docstring.\" extended_summary=\"`PEP 484`_ type annotations are supported. If attribute, parameter, and\\nreturn types are annotated according to `PEP 484`_, they do not need to be\\nincluded in the docstring:\" />\n",
      "<ParamSection name=\"Parameters\">\n",
      "\t<Parameter name=\"param1\" type=\"int\" desc=\"The first parameter. something something\\nsecond line. foo\" />\n",
      "\t<Parameter name=\"param2\" type=\"str\" desc=\"The second parameter.\" />\n",
      "</ParamSection>\n",
      "<ParamSection name=\"Returns\">\n",
      "\t<Parameter type=\"bool\" desc=\"True if successful, False otherwise.\" />\n",
      "</ParamSection>\n",
      "</DocSection>\n"
     ]
    }
   ],
   "source": [
    "_p1 = Path('test_files/_md_files/test_docs.md')\n",
    "print(_p1.read_text())"
   ]
  },
  {
   "cell_type": "code",
   "execution_count": 8,
   "id": "194cf906-88a7-4637-a0fb-34ec7b8c1026",
   "metadata": {},
   "outputs": [
    {
     "name": "stdout",
     "output_type": "stream",
     "text": [
      "---\n",
      "key2: value2\n",
      "slug: custom/pathfor/site\n",
      "key: value\n",
      "---\n",
      "<DocSection type=\"function\" name=\"function_with_pep484_type_annotations\" module=\"test_lib.example\" show_import=\"False\" heading_level=\"3\">\n",
      "<SigArgSection>\n",
      "<SigArg name=\"param1\" type=\"int\" /><SigArg name=\"param2\" type=\"str\" />\n",
      "</SigArgSection>\n",
      "<Description summary=\"Example function with PEP 484 type annotations.\" extended_summary=\"The return type must be duplicated in the docstring to comply\\nwith the NumPy docstring style.\" />\n",
      "<ParamSection name=\"Parameters\">\n",
      "\t<Parameter name=\"param1\" desc=\"The first parameter.\" />\n",
      "\t<Parameter name=\"param2\" desc=\"The second parameter.\" />\n",
      "</ParamSection>\n",
      "<ParamSection name=\"Returns\">\n",
      "\t<Parameter type=\"bool\" desc=\"True if successful, False otherwise.\" />\n",
      "</ParamSection>\n",
      "</DocSection>\n"
     ]
    }
   ],
   "source": [
    "_p2 = Path('test_files/_md_files/front_matter_test_docs.md')\n",
    "print(_p2.read_text())"
   ]
  },
  {
   "cell_type": "markdown",
   "id": "9ab2c1ca-ae53-4680-b396-286f39169008",
   "metadata": {},
   "source": [
    "Notice that for `front_matter_test_docs.md`, the front matter has a `slug`, which is used for the path rather than the directory in which the document resides."
   ]
  },
  {
   "cell_type": "code",
   "execution_count": 9,
   "id": "b6bee4cd-ed1b-435b-bedc-1c87e3b9a9af",
   "metadata": {},
   "outputs": [],
   "source": [
    "#hide\n",
    "_res = build_index('test_files/')\n",
    "assert len(_res) > 10\n",
    "test_eq(_res['function_with_pep484_type_annotations'], 'https://outerbounds.github.io/nbdoc/custom/pathfor/site#function_with_pep484_type_annotations')\n",
    "test_eq(_res['function_with_types_in_docstring'], 'https://outerbounds.github.io/nbdoc/_md_files/test_docs#function_with_types_in_docstring')"
   ]
  },
  {
   "cell_type": "markdown",
   "id": "51def843-1abc-4d58-bde6-6bb9dbf448f6",
   "metadata": {},
   "source": [
    "Here is how the index looks:"
   ]
  },
  {
   "cell_type": "code",
   "execution_count": 10,
   "id": "2e714ca7-5af2-4ce5-ad8d-fbdff78ec5ed",
   "metadata": {},
   "outputs": [
    {
     "data": {
      "text/plain": [
       "{'function_with_pep484_type_annotations': 'https://outerbounds.github.io/nbdoc/custom/pathfor/site#function_with_pep484_type_annotations',\n",
       " '@batch': 'https://outerbounds.github.io/nbdoc/_md_files/decorators#@batch',\n",
       " '@card': 'https://outerbounds.github.io/nbdoc/_md_files/decorators#@card',\n",
       " '@catch': 'https://outerbounds.github.io/nbdoc/_md_files/decorators#@catch',\n",
       " '@conda': 'https://outerbounds.github.io/nbdoc/_md_files/decorators#@conda',\n",
       " '@kubernetes': 'https://outerbounds.github.io/nbdoc/_md_files/decorators#@kubernetes',\n",
       " '@parallel': 'https://outerbounds.github.io/nbdoc/_md_files/decorators#@parallel',\n",
       " '@project': 'https://outerbounds.github.io/nbdoc/_md_files/decorators#@project',\n",
       " '@resources': 'https://outerbounds.github.io/nbdoc/_md_files/decorators#@resources',\n",
       " '@step': 'https://outerbounds.github.io/nbdoc/_md_files/decorators#@step',\n",
       " 'function_with_types_in_docstring': 'https://outerbounds.github.io/nbdoc/_md_files/test_docs#function_with_types_in_docstring'}"
      ]
     },
     "execution_count": 10,
     "metadata": {},
     "output_type": "execute_result"
    }
   ],
   "source": [
    "build_index('test_files/')"
   ]
  },
  {
   "cell_type": "code",
   "execution_count": 11,
   "id": "3df8d47a-6a5c-43fb-adc6-f7770496e11a",
   "metadata": {},
   "outputs": [],
   "source": [
    "#export\n",
    "_re_backticks = re.compile(r'`([^`\\s]+)`')\n",
    "def get_idx(url): return json.loads(urlread(url))\n",
    "\n",
    "class NbdevLookup:\n",
    "    \"Mapping from symbol names to URLs with docs\"\n",
    "    def __init__(self, local=True, md_path=None, update_existing=False):\n",
    "        self.md_path = md_path\n",
    "        self.local = local\n",
    "        self.mdfiles = _get_md_files(md_path)\n",
    "        self.update_existing = update_existing\n",
    "    \n",
    "    def build_syms(self):\n",
    "        cfg = get_config()\n",
    "        urls = cfg.get('remote_idx', '').split()\n",
    "        self.syms = merge(*[get_idx(url) for url in urls])\n",
    "\n",
    "        if self.local:\n",
    "            build_index(self.md_path, self.update_existing)\n",
    "            idx_file = cfg.config_path/'_nbdoc_index.json'\n",
    "            if idx_file.exists(): self.syms = merge(self.syms, json.loads(idx_file.read_text()))\n",
    "        \n",
    "        \n",
    "    def _link_sym(self, m):\n",
    "        l = m.group(1)\n",
    "        s = self[l]\n",
    "        if s is None: return m.group(0)\n",
    "        return rf\"[{l}]({s})\"\n",
    "\n",
    "    def _link_line(self, l): return _re_backticks.sub(self._link_sym, l)\n",
    "    \n",
    "    def linkify(self, md):\n",
    "        in_fence=False\n",
    "        lines = md.splitlines()\n",
    "        for i,l in enumerate(lines):\n",
    "            if l.startswith(\"```\"): in_fence=not in_fence\n",
    "            elif not l.startswith('    ') and not in_fence: lines[i] = self._link_line(l)\n",
    "        return '\\n'.join(lines)\n",
    "\n",
    "    def __getitem__(self, s): return self.syms.get(s, None)\n",
    "\n",
    "    def update_markdown(self):\n",
    "        self.build_syms()\n",
    "        if self.syms:\n",
    "            for f in self.mdfiles:\n",
    "                print(f'Updating: {str(f)}')\n",
    "                f.write_text(self.linkify(f.read_text()))"
   ]
  },
  {
   "cell_type": "markdown",
   "id": "e44875bc-6a4c-4792-833a-f039ea0ea916",
   "metadata": {},
   "source": [
    "`NbdevLookup` can help you linkify markdown."
   ]
  },
  {
   "cell_type": "code",
   "execution_count": 12,
   "id": "113212fa-93e9-4544-b4a4-7b2ab8d1d64e",
   "metadata": {},
   "outputs": [],
   "source": [
    "#hide\n",
    "\n",
    "# generates backtics.md testing file\n",
    "_original_md = \"\"\"Hey I am going to see what happens when we have things like `@conda` and `@batch`, but you will not convert conda to a link because it isn't in back ticks.\n",
    "\n",
    "If something isn't in the index like `@lorem`, nothing will happen.\n",
    "\n",
    "```py\n",
    "In code fences you will not convert links `@conda`\n",
    "```\n",
    "\n",
    "# Some other md\n",
    "\n",
    "this is another test: `function_with_types_in_docstring`\n",
    "\"\"\"\n",
    "_backticks_file = Path('test_files/_md_files/backticks.md')\n",
    "\n",
    "_backticks_file.write_text(_original_md);"
   ]
  },
  {
   "cell_type": "markdown",
   "id": "46056669-7b78-42bb-958a-40afe8b8d6a7",
   "metadata": {},
   "source": [
    "Here is an example of a file before linkifying it:"
   ]
  },
  {
   "cell_type": "code",
   "execution_count": 13,
   "id": "c0c6a187-826f-44d4-9206-4a422171de90",
   "metadata": {},
   "outputs": [
    {
     "name": "stdout",
     "output_type": "stream",
     "text": [
      "Hey I am going to see what happens when we have things like `@conda` and `@batch`, but you will not convert conda to a link because it isn't in back ticks.\n",
      "\n",
      "If something isn't in the index like `@lorem`, nothing will happen.\n",
      "\n",
      "```py\n",
      "In code fences you will not convert links `@conda`\n",
      "```\n",
      "\n",
      "# Some other md\n",
      "\n",
      "this is another test: `function_with_types_in_docstring`\n",
      "\n"
     ]
    }
   ],
   "source": [
    "print(_backticks_file.read_text())"
   ]
  },
  {
   "cell_type": "markdown",
   "id": "372d58fc-4f4e-4a8c-819c-7a6024377723",
   "metadata": {},
   "source": [
    "And after linkifying it:"
   ]
  },
  {
   "cell_type": "code",
   "execution_count": 14,
   "id": "be900831-cd4e-4290-900b-8d4de238f631",
   "metadata": {},
   "outputs": [
    {
     "name": "stdout",
     "output_type": "stream",
     "text": [
      "Updating: test_files/_md_files/front_matter2.md\n",
      "Updating: test_files/_md_files/backticks.md\n",
      "Updating: test_files/_md_files/false_fm2.md\n",
      "Updating: test_files/_md_files/front_matter_test_docs.md\n",
      "Updating: test_files/_md_files/front_matter3.md\n",
      "Updating: test_files/_md_files/decorators.md\n",
      "Updating: test_files/_md_files/false_fm.md\n",
      "Updating: test_files/_md_files/test_docs.md\n"
     ]
    }
   ],
   "source": [
    "nl = NbdevLookup(md_path='test_files/_md_files/')\n",
    "nl.update_markdown()"
   ]
  },
  {
   "cell_type": "code",
   "execution_count": 15,
   "id": "9ddde337-0972-40cc-b791-3abef59939fb",
   "metadata": {},
   "outputs": [
    {
     "name": "stdout",
     "output_type": "stream",
     "text": [
      "Hey I am going to see what happens when we have things like [@conda](https://outerbounds.github.io/nbdoc/decorators#@conda) and [@batch](https://outerbounds.github.io/nbdoc/decorators#@batch), but you will not convert conda to a link because it isn't in back ticks.\n",
      "\n",
      "If something isn't in the index like `@lorem`, nothing will happen.\n",
      "\n",
      "```py\n",
      "In code fences you will not convert links `@conda`\n",
      "```\n",
      "\n",
      "# Some other md\n",
      "\n",
      "this is another test: [function_with_types_in_docstring](https://outerbounds.github.io/nbdoc/test_docs#function_with_types_in_docstring)\n"
     ]
    }
   ],
   "source": [
    "print(_backticks_file.read_text())"
   ]
  },
  {
   "cell_type": "code",
   "execution_count": 16,
   "id": "240a38f9-9141-42a2-a235-9066659a0750",
   "metadata": {},
   "outputs": [],
   "source": [
    "#hide\n",
    "_correct_res = \"\"\"Hey I am going to see what happens when we have things like [@conda](https://outerbounds.github.io/nbdoc/decorators#@conda) and [@batch](https://outerbounds.github.io/nbdoc/decorators#@batch), but you will not convert conda to a link because it isn't in back ticks.\n",
    "\n",
    "If something isn't in the index like `@lorem`, nothing will happen.\n",
    "\n",
    "```py\n",
    "In code fences you will not convert links `@conda`\n",
    "```\n",
    "\n",
    "# Some other md\n",
    "\n",
    "this is another test: [function_with_types_in_docstring](https://outerbounds.github.io/nbdoc/test_docs#function_with_types_in_docstring)\"\"\"\n",
    "test_eq(_backticks_file.read_text(), _correct_res)"
   ]
  },
  {
   "cell_type": "code",
   "execution_count": 17,
   "id": "9a6717de-ce7b-4310-b02d-cd5be2897f8f",
   "metadata": {},
   "outputs": [],
   "source": [
    "#export\n",
    "@call_parse\n",
    "def nbdoc_linkify(\n",
    "    local:Param('Whether or not to build an index based on local documents', store_false),\n",
    "    keep_existing:Param('Whether or not to keep existing index', store_true),\n",
    "    md_path:Param('Root path to search recursively containing markdown files to linkify', str)=None,\n",
    "):\n",
    "    \"Convert names in `backticks` in markdown files that have been documented with nbdoc.showdoc.ShowDoc to appropriate links.\"\n",
    "    nl = NbdevLookup(local=local, md_path=md_path, update_existing=keep_existing)\n",
    "    nl.update_markdown()"
   ]
  },
  {
   "cell_type": "code",
   "execution_count": null,
   "id": "47d0ef3d-fbbb-49af-9d8f-653c7809fe32",
   "metadata": {},
   "outputs": [],
   "source": []
  }
 ],
 "metadata": {
  "kernelspec": {
   "display_name": "Python 3 (ipykernel)",
   "language": "python",
   "name": "python3"
  },
  "language_info": {
   "codemirror_mode": {
    "name": "ipython",
    "version": 3
   },
   "file_extension": ".py",
   "mimetype": "text/x-python",
   "name": "python",
   "nbconvert_exporter": "python",
   "pygments_lexer": "ipython3",
   "version": "3.9.7"
  }
 },
 "nbformat": 4,
 "nbformat_minor": 5
}
