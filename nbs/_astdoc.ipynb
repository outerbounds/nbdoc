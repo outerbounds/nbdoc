{
 "cells": [
  {
   "cell_type": "code",
   "execution_count": 1,
   "id": "ae1097cb-0fd4-49db-b95a-3d609097b22a",
   "metadata": {},
   "outputs": [],
   "source": [
    "#default_exp astdoc"
   ]
  },
  {
   "cell_type": "markdown",
   "id": "07f90a3b-725a-45a2-aa78-59ae1104cd74",
   "metadata": {},
   "source": [
    "# Staticly Parse Python For Documentation (Deprecated)\n",
    "\n",
    "> Parse python modules and extract components (signatures, docstrings, etc) from the AST.\n",
    "\n",
    "Given a folder to a python module, we want walk all of the python files and extract the relevant apis into a structured format.  The structured format can then be extracted in a format like JSX that allows custom styling of various components such as signatures, functions, methods, etc."
   ]
  },
  {
   "cell_type": "code",
   "execution_count": 2,
   "id": "4ced8320-e887-435d-a294-c2e5f614a370",
   "metadata": {},
   "outputs": [],
   "source": [
    "#export\n",
    "from fastcore.all import Path, L, risinstance, test_eq\n",
    "import ast, re"
   ]
  },
  {
   "cell_type": "code",
   "execution_count": 3,
   "id": "ee5b9bb0-25b4-471f-b081-5dcd1eced134",
   "metadata": {},
   "outputs": [],
   "source": [
    "#export\n",
    "#hide\n",
    "\n",
    "class Parsed:\n",
    "    \"Base class for Parsed objects used to store structured data about an AST.\"\n",
    "    def __init__(self, tree):\n",
    "        self.tree = tree\n",
    "        self.docstring = ast.get_docstring(tree)\n",
    "\n",
    "    def __getattr__(self, a):\n",
    "        return getattr(self.tree, a)"
   ]
  },
  {
   "cell_type": "code",
   "execution_count": 4,
   "id": "b86788a0-85e7-46c2-aad9-aebe8b0d6c1b",
   "metadata": {},
   "outputs": [],
   "source": [
    "#export\n",
    "class ParsedFunc(Parsed):\n",
    "    \"Parse a function in a way that is amenable to show in the docs.\"\n",
    "    def __init__(self, tree):\n",
    "        assert isinstance(tree, ast.FunctionDef), f\"Cannot parse non-function type: {type(tree)}.\"\n",
    "        super().__init__(tree)\n",
    "        self.dirty_ds = ast.get_docstring(tree, clean=False)\n",
    "        self.args = ast.unparse(tree.args)\n",
    "        _returns = getattr(tree, 'returns')\n",
    "        self.returns = ast.unparse(_returns) if _returns else None\n",
    "        self.body = self.get_body()\n",
    "        self.decorators = [ast.unparse(d) for d in tree.decorator_list]\n",
    "    \n",
    "    def get_body(self):\n",
    "        body = ast.unparse(self.tree.body).encode('utf-8').decode('unicode_escape')\n",
    "        docstring = f\"'{ast.get_docstring(self.tree, clean=False)}'\\n\"\n",
    "        return body.replace(docstring, '')\n",
    "\n",
    "    @property\n",
    "    def include(self):\n",
    "        \"If this function should be shown in the docs or not.\"\n",
    "        return self.name == '__init__' or (not self.name.startswith('_') and 'property' not in self.decorators)"
   ]
  },
  {
   "cell_type": "markdown",
   "id": "1a7b0e3a-9d6f-4a74-9798-690386c0e7e7",
   "metadata": {},
   "source": [
    "Let's take the below function as an example.  We can parse it and get its constituent parts:"
   ]
  },
  {
   "cell_type": "code",
   "execution_count": 5,
   "id": "90b83168-c83a-4ed8-8f5f-fd99a5000926",
   "metadata": {},
   "outputs": [
    {
     "name": "stdout",
     "output_type": "stream",
     "text": [
      "def func(ms) -> str:\n",
      "    \"\"\"\n",
      "    Switch Metadata provider.\n",
      "\n",
      "    This call has a global effect. Selecting the local metadata will,\n",
      "    for example, not allow access to information stored in remote\n",
      "    metadata providers.\n",
      "\n",
      "    Parameters\n",
      "    ----------\n",
      "    ms : string\n",
      "        Can be a path (selects local metadata), a URL starting with http (selects\n",
      "        the service metadata) or an explicit specification <metadata_type>@<info>; as an\n",
      "        example, you can specify local@<path> or service@<url>.\n",
      "\n",
      "    Returns\n",
      "    -------\n",
      "    string\n",
      "        The description of the metadata selected (equivalent to the result of\n",
      "        get_metadata())\n",
      "    \"\"\"\n",
      "    global current_metadata\n",
      "    infos = ms.split('@', 1)\n",
      "    return get_metadata()\n"
     ]
    }
   ],
   "source": [
    "_t = ast.parse(Path('test_files/test_lib/script.py').read_text())\n",
    "_f = _t.body[1]\n",
    "\n",
    "print(ast.unparse(_t.body[1]))"
   ]
  },
  {
   "cell_type": "markdown",
   "id": "57207b1c-fb42-4307-b15c-f0d0ae75bab4",
   "metadata": {},
   "source": [
    "When we parse the above function we get a number of useful attributes:"
   ]
  },
  {
   "cell_type": "code",
   "execution_count": 6,
   "id": "cac17f0b-d4f2-49cf-9be6-2e29b7438781",
   "metadata": {},
   "outputs": [],
   "source": [
    "_pm = ParsedFunc(_f)\n",
    "test_eq(_pm.args, 'ms')\n",
    "test_eq(_pm.name, 'func')\n",
    "test_eq(_pm.body, \"global current_metadata\\ninfos = ms.split('@', 1)\\nreturn get_metadata()\") #docstring is stripped out\n",
    "test_eq(_pm.returns, 'str')\n",
    "test_eq(_pm.decorators, [])\n",
    "assert _pm.docstring.startswith('Switch Metadata')"
   ]
  },
  {
   "cell_type": "code",
   "execution_count": 7,
   "id": "9cfa18f7-cb57-4349-9035-380a05989c4c",
   "metadata": {},
   "outputs": [],
   "source": [
    "#export\n",
    "class ParsedClass(Parsed):\n",
    "    \"Parse Python Classes and associated methods.\"\n",
    "    def __init__(self, tree):\n",
    "        assert isinstance(tree, ast.ClassDef), f\"Cannot parse non-class type: {type(tree)}.\"\n",
    "        super().__init__(tree)\n",
    "        self.docstring = ast.get_docstring(tree)\n",
    "        self._methods = self.get_funcs()\n",
    "        self.methods = []\n",
    "        for m in self._methods:\n",
    "            if m.name != '__init__': \n",
    "                self.methods.append(m)\n",
    "            elif m.name == '__init__':\n",
    "                self._init_method = m\n",
    "                self.signature = m.args\n",
    "        \n",
    "    @property\n",
    "    def include(self):\n",
    "        return not self.name.startswith('_') and bool(self._methods)\n",
    "        \n",
    "    \n",
    "    def get_funcs(self):\n",
    "        _funcs = L(self.tree.body).filter(risinstance(ast.FunctionDef)).map(lambda x: ParsedFunc(x))\n",
    "        return _funcs.filter(lambda x: x.include)"
   ]
  },
  {
   "cell_type": "markdown",
   "id": "58571277-c4bc-49b2-9175-f5f614859560",
   "metadata": {},
   "source": [
    "Similarly, let's parse the below class:"
   ]
  },
  {
   "cell_type": "code",
   "execution_count": 8,
   "id": "82f64cc6-8d4c-4e7c-b164-88374c887621",
   "metadata": {},
   "outputs": [
    {
     "name": "stdout",
     "output_type": "stream",
     "text": [
      "class Flow(MetaflowObject):\n",
      "    \"\"\"\n",
      "    A Flow represents all existing flows with a certain name, in other words,\n",
      "    classes derived from 'FlowSpec'\n",
      "\n",
      "    As such, it contains all Runs (executions of a flow) related to this flow.\n",
      "\n",
      "    Attributes\n",
      "    ----------\n",
      "    latest_run : Run\n",
      "        Latest Run (in progress or completed, successfully or not) of this Flow\n",
      "    latest_successful_run : Run\n",
      "        Latest successfully completed Run of this Flow\n",
      "    \"\"\"\n",
      "    _NAME = 'flow'\n",
      "    _PARENT_CLASS = None\n",
      "    _CHILD_CLASS = 'run'\n",
      "\n",
      "    def __init__(self, foo, *args, **kwargs):\n",
      "        super(Flow, self).__init__(*args, **kwargs)\n",
      "\n",
      "    @property\n",
      "    def latest_run(self):\n",
      "        \"\"\"\n",
      "        Returns the latest run (either in progress or completed) of this flow.\n",
      "\n",
      "        Note that an in-progress run may be returned by this call. Use latest_successful_run\n",
      "        to get an object representing a completed successful run.\n",
      "\n",
      "        Returns\n",
      "        -------\n",
      "        Run\n",
      "            Latest run of this flow\n",
      "        \"\"\"\n",
      "        for run in self:\n",
      "            return run\n",
      "\n",
      "    @property\n",
      "    def latest_successful_run(self):\n",
      "        \"\"\"\n",
      "        Returns the latest successful run of this flow.\n",
      "\n",
      "        Returns\n",
      "        -------\n",
      "        Run\n",
      "            Latest successful run of this flow\n",
      "        \"\"\"\n",
      "        for run in self:\n",
      "            if run.successful:\n",
      "                return run\n",
      "\n",
      "    @property\n",
      "    def runs(self, *tags):\n",
      "        \"\"\"\n",
      "        Returns an iterator over all the runs in the flow.\n",
      "\n",
      "        An optional filter is available that allows you to filter on tags.\n",
      "        If tags are specified, only runs associated with all specified tags\n",
      "        are returned.\n",
      "\n",
      "        Parameters\n",
      "        ----------\n",
      "        tags : string\n",
      "            Tags to match\n",
      "\n",
      "        Returns\n",
      "        -------\n",
      "        Iterator[Run]\n",
      "            Iterator over Run objects in this flow\n",
      "        \"\"\"\n",
      "        self.a = 2\n",
      "        return self._filtered_children(*tags)\n"
     ]
    }
   ],
   "source": [
    "_c = _t.body[6]\n",
    "print(ast.unparse(_c))"
   ]
  },
  {
   "cell_type": "markdown",
   "id": "830d5874-9269-4419-a12d-8680e4238236",
   "metadata": {},
   "source": [
    "When we parse this class, we similarly get useful attributes:"
   ]
  },
  {
   "cell_type": "code",
   "execution_count": 9,
   "id": "7f44786b-ddd8-42fb-a99d-f5c37bd47d01",
   "metadata": {},
   "outputs": [],
   "source": [
    "_pc = ParsedClass(_c)\n",
    "_pc.name == 'Flow'\n",
    "test_eq(_pc.methods, []) # only method is __init__ which is stored seperately, and properties do not count\n",
    "test_eq(_pc.signature, 'self, foo, *args, **kwargs') # the signature is pulled from __init__\n",
    "assert _pc.docstring.startswith(\"A Flow represents all existing flows\") # The class-level docstring"
   ]
  },
  {
   "cell_type": "code",
   "execution_count": 10,
   "id": "ced8435c-128c-4291-8549-f5d6d2d2e506",
   "metadata": {},
   "outputs": [],
   "source": [
    "#export\n",
    "class ParsedModule(Parsed):\n",
    "    \"Parse python modules given a `basedir` and `filepath`\"\n",
    "    def __init__(self, basedir:str, filepath:str):\n",
    "        fp = Path(filepath)\n",
    "        bd = Path(basedir)\n",
    "        assert filepath.startswith(basedir), f\"`filepath`: {filepath} must start with `basedir`: {basedir}\" \n",
    "        assert fp.exists(), f'File does not exist: {str(fp)}'\n",
    "        assert fp.suffix == '.py', f'Only python files can be parsed.  Got: f{str(fp)}'\n",
    "        \n",
    "        \n",
    "        tree = ast.parse(fp.read_text())\n",
    "        super().__init__(tree)\n",
    "        \n",
    "        self.stem = fp.stem\n",
    "        self.source_dir = re.sub(r'^/', '', str(fp.parent).replace(str(bd), ''))\n",
    "        self.dest_dir = f\"{self.source_dir}/{self.stem}\"\n",
    "        \n",
    "        assert isinstance(tree, ast.Module), f\"Cannot parse non-Module type: {type(tree)}.\"\n",
    "        self.funcs = L()\n",
    "        self.classes = L()\n",
    "        for o in L(tree.body).filter(risinstance((ast.FunctionDef, ast.ClassDef))):\n",
    "            if isinstance(o, ast.FunctionDef):\n",
    "                f = ParsedFunc(o)\n",
    "                if f.include: self.funcs.append(f)\n",
    "            if isinstance(o, ast.ClassDef):\n",
    "                c = ParsedClass(o)\n",
    "                if c.include: self.classes.append(c)\n",
    "        \n",
    "    @property\n",
    "    def include(self):\n",
    "        return self.funcs or self.classes\n",
    "    \n",
    "    @property\n",
    "    def func_names(self): return self.funcs.attrgot('name')\n",
    "\n",
    "    @property\n",
    "    def class_names(self): return self.classes.attrgot('name')"
   ]
  },
  {
   "cell_type": "markdown",
   "id": "9026e274-7e4f-4837-82d5-03e831912107",
   "metadata": {},
   "source": [
    "`ParsedModule` parses python modules:"
   ]
  },
  {
   "cell_type": "code",
   "execution_count": 11,
   "id": "e4bed968-8efa-4d59-aacc-58bd3d4b1bc2",
   "metadata": {},
   "outputs": [],
   "source": [
    "_basedir='test_files/'\n",
    "_file_path = 'test_files/test_lib/script.py'\n",
    "_pm = ParsedModule(_basedir, _file_path)"
   ]
  },
  {
   "cell_type": "markdown",
   "id": "9d0811f1-2bbe-4d48-909c-1b7fc57f1f94",
   "metadata": {},
   "source": [
    "The reason we pass `basedir` and `filepath` so we can calculate various paths for writing markdown files:"
   ]
  },
  {
   "cell_type": "code",
   "execution_count": 12,
   "id": "61e6eb6c-8345-45cf-9ded-1315a8a3fbee",
   "metadata": {},
   "outputs": [],
   "source": [
    "test_eq(_pm.source_dir, 'test_lib') # need this to link back to GitHub from the docs\n",
    "test_eq(_pm.dest_dir, 'test_lib/script') # this is the directory that markdown from this module would be written into\n",
    "test_eq(_pm.stem, 'script') # This is the stem of the python file"
   ]
  },
  {
   "cell_type": "markdown",
   "id": "760620c8-a2f3-4b53-b216-c47d8b033619",
   "metadata": {},
   "source": [
    "We have access to useful attributes:"
   ]
  },
  {
   "cell_type": "code",
   "execution_count": 13,
   "id": "eeaa4f3d-fa9b-4c40-af56-1c754404ee57",
   "metadata": {},
   "outputs": [],
   "source": [
    "test_eq(_pm.class_names, ['Metaflow','MetaflowObject','MetaflowData','Flow'])\n",
    "test_eq(_pm.func_names, ['func','get_metadata'])"
   ]
  },
  {
   "cell_type": "markdown",
   "id": "c141e2c3-52de-4bc4-a5f8-22d7cdf819b9",
   "metadata": {},
   "source": [
    "We can access methods from classes as well:"
   ]
  },
  {
   "cell_type": "code",
   "execution_count": 14,
   "id": "9345135b-256b-412d-855e-7e47c8500b6d",
   "metadata": {},
   "outputs": [],
   "source": [
    "for c in _pm.classes:\n",
    "    if c.name == 'MetaflowObject':\n",
    "        # the signature, or __init__ of `MetaflowObject` in our test data\n",
    "        test_eq(c.signature, 'self, pathspec=None, attempt=None, _object=None, _parent=None, _namespace_check=True')\n",
    "        _tst_methods = c.methods\n",
    "        \n",
    "test_eq(len(_tst_methods), 1) # there is only one method we want to show from the MetaflowObject besides __init__\n",
    "test_eq(_tst_methods[0].name, 'is_in_namespace') # the name of this method is `is_in_namespace`\n",
    "assert _tst_methods[0].docstring.startswith(\"Returns whether this object is in the current namespace.\")"
   ]
  },
  {
   "cell_type": "code",
   "execution_count": 15,
   "id": "b95f938a-e7e1-46d8-b9c1-fa85d44ad8b0",
   "metadata": {},
   "outputs": [],
   "source": [
    "#hide\n",
    "\n",
    "# from fastcore.all import globtastic\n",
    "# files = globtastic('../../metaflow/metaflow/', \n",
    "#                     file_glob='*.py', \n",
    "#                     skip_folder_re='^[_.]')"
   ]
  }
 ],
 "metadata": {
  "kernelspec": {
   "display_name": "Python 3 (ipykernel)",
   "language": "python",
   "name": "python3"
  },
  "language_info": {
   "codemirror_mode": {
    "name": "ipython",
    "version": 3
   },
   "file_extension": ".py",
   "mimetype": "text/x-python",
   "name": "python",
   "nbconvert_exporter": "python",
   "pygments_lexer": "ipython3",
   "version": "3.9.7"
  }
 },
 "nbformat": 4,
 "nbformat_minor": 5
}
